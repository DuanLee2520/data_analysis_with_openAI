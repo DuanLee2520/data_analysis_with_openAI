import warnings
warnings.filterwarnings("ignore")
# loading packages
# 1 basic
from datetime import datetime
from datetime import timedelta
import numpy as np
import pandas as pd
from pandas import Series,DataFrame


def open_file(file_name):
    if file_name.endswith('.csv'):
        data = pd.read_csv(file_name)
    elif file_name.endswith('.xlsx') or file_name.endswith('.xls'):
        data = pd.read_excel(file_name)
    elif file_name.endswith('.json'):
        data = pd.read_json(file_name)
    elif file_name.endswith('.pkl'):
        data = pd.read_pickle(file_name)
    else:
        raise ValueError("Unsupported file format. Please provide a file with .csv, .xlsx, .xls, or .json extension.")
    return data


train_data=open_file("ds_salaries.csv")
store_data=open_file('store.csv')


# 传入数据，和数据的名字，得到数据的前五行数据，和info
def check_file(data,data_name):
    print('{:*^30}'.format('{} first 5 rows').format(data_name))
    print(data.head(5))
    print('{:*^30}'.format('{} info of each column').format(data_name))
    print(data.info(),'\n','\n')


check_file(train_data,'train_data')


# 传入数据集dataframe，和需要编码吗的列名称【列1，列2····】，返回0 1 编码，按照每一列的数据，
# 内部逻辑就是对每一列进行0 1 编码,比如：传入的一列全是数字，最大值是7，那么编码结果就是生成0~7列，原来是3的就在第三列显示1，原来是5的就在第5列显示1
def convert_to_twovalues(data,columns):
    connect_column=[]
    for item in columns:
        df_tem=pd.get_dummies(data[item],prefix=item)
        connect_column.append(df_tem)
    data_new=pd.concat(connect_column,axis=1)
    return data_new


# 传入dataframe数据集，和需要0 1 化的列名称，每一列需要是一个str的list格式比如【】
def one_hot(data,columns):
    connect_column=[]
    for item in columns:
        temp=data[item].str.join(',')
        df_tem=temp.str.get_dummies(',')
        connect_column.append(df_tem)
    data_new=pd.concat(connect_column,axis=1)
    return data_new


retail_1=pd.DataFrame({'id':[1,2,3],'basket':[['b','d','p','c','a'],
                                ['b','f','p'],
                                ['m','q','p','e','a'] ]
         })


a=one_hot(retail_1,['basket'])
a


from mlxtend.frequent_patterns import apriori
from mlxtend.frequent_patterns import association_rules 
def association_rule(data):
    frequent_itemsets = apriori(data, min_support=0.5, use_colnames=True)
    for item in [["lift",1.1],["confidence",0.7]]:
        rules = association_rules(frequent_itemsets, metric=item[0], min_threshold=item[1])
        print('{:*^30}'.format('{} ordering').format(item[0]))
        n=len(rules)
        for i in range(n):
            print(f"{i} item in {n} ")
            A=rules.iloc[i]["antecedents"]
            B=rules.iloc[i]["consequents"]
            C=rules.iloc[i]["lift"]
            D=rules.iloc[i]["confidence"]
            E=rules.iloc[i]["conviction"]
            print(f"lift = {C} ,  When {A} occurs, {B} is {C} times more likely to be present than when {A} is absent ")
            print(f"confidence ={D},  When {A} occurs, the probability that {B} also occurs is {D} ")
            print(f"conviction = {E}")
            if rules.iloc[i]["conviction"]== 'inf':
                print(f"The occurrence of the {B} depends almost entirely on {A}")
            if rules.iloc[i]["conviction"]== 0:
                print(f"The occurrence of the {B}  has nothing to do with {A}")



association_rule(a)


# data:dataframe 的数据集；  target：需要处理的列名称，可以是1列，也可以是多列
def standlizeDate(data,target):
    for item in target:
        data[item]=pd.to_datetime(data[item],errors='coerce')
        data['Month']=data[item].dt.strftime('%b')
        data['Weekday'] = data[item].dt.strftime('%a')
        data['Hour'] = data[item].dt.strftime('%H')  #提取小时
    return data


# 使用案例
df = pd.DataFrame({
    'Date': ['2023.5.15', 'May.15.2023', '03-25-2023', '04-10-2023'],
    'Date1': ['2023.5.15', 'May.15.2023', '09:15:30', '04-10-2023'],
    'Value': [10, 20, 30, 40]
})
df
a=['Date','Date1']
df = standlizeDate(df,a)
df


print(len(df['Value']))


import re
def digitDataClean(data,target):
    for item in target:
        data[item]=data[item].apply(lambda x: re.sub(r'[^0-9.]', '', x))
        data[item].astype(float)
    return data


# 使用案例
df = pd.DataFrame({
    'Text': ['abc12.3def', 'xyz4,56.5pqr', 'mno789.0stu'],
    'Text1': ['abc12.3def', 'xyz4,56.5pqr', 'mno789.0stu']
})
a=['Text','Text1']
df=digitDataClean(df,a)
print(df)


import matplotlib.pyplot as plt
import seaborn as sns
get_ipython().run_line_magic("matplotlib", " inline")
# 传入数据集，列名称A,列名称B，画出B随A变化的柱状图和折线图的组合，且表明了最高点和最低点
def visualize_BarPoint(data,A,B):
    fig, ax = plt.subplots(figsize=(13, 7))
    data1=data.groupby(A)[B].mean().reset_index().sort_values(by=A)
    data1=data1.sort_values(by=A, key=lambda x: pd.Categorical(x, categories=data1[A].unique(), ordered=True))

    sns.barplot(data=data1, x=A, y=B, ax=ax)
    sns.pointplot(data=data1, x=A, y=B, marker='o', ax=ax)
    # 标注极值点
    max_value = data1[B].max()
    q1=data1[data1[B]==max_value].index.item()
    min_value = data1[B].min()
    q2=data1[data1[B]==min_value].index.item()
    ax.annotate(f'Max: {max_value}', fontsize=15,color='purple',xy=(q1, max_value), xytext=(10, 10),
                textcoords='offset points', arrowprops=dict(arrowstyle='->', lw=2.5))
    ax.annotate(f'Min: {min_value}', fontsize=15, color='red', xy=(q2, min_value), xytext=(10, -20),
                textcoords='offset points', arrowprops=dict(arrowstyle='->', lw=2.5))
    ax.set_title(f'The relationship between {B} and {A }(the trend of {B} changing with {A})')
    ax.set_xlabel(A)
    ax.set_ylabel(B)

    plt.show()


# 使用案例
df = pd.DataFrame({
    'Month': ['Jan', 'Feb', 'Mar', 'Apr', 'May', 'Jun','Jun','May'],
    'Sales': [1000, 3200, 2900, 1500, 1100, 2000,600,300]
})
# df['Month']=pd.to_datetime(df['Month'],errors='coerce')
visualize_BarPoint(df,'Month','Sales')
da=df.groupby(df['Month'])['Sales'].mean().reset_index()
print(da)


import pandas as pd
import seaborn as sns
import matplotlib.pyplot as plt

def plot_custom_pie_chart(dataframe, column, highlight=None):
    # 统计每个类别的数量
    counts = dataframe[column].value_counts()
    counts=counts.head(10)
    # 获取类别标签和数量
    labels = counts.index.tolist()
    values = counts.values.tolist()
    maxvalue=counts.values.max()
    minvalue=counts.values.min()
    maxlable=counts[counts.values==maxvalue].index.tolist()
    minlable=counts[counts.values==minvalue].index.tolist()
    # 随机选择颜色
    colors = sns.color_palette(n_colors=len(labels))
    # 设置突出显示的部分
    if highlight=='max':
        explode = [0.1 if i == maxlable[0] else 0 for i in labels]
    if highlight=='min':
        explode = [0.1 if i == minlable[0] else 0 for i in labels]
    # 绘制饼图
    plt.figure(figsize=(8, 6))
    wedges, texts, autotexts = plt.pie(values, labels=labels, autopct='%1.1f%%', startangle=90, colors=colors, explode=explode, shadow=True)
    # 添加注释
    for i, autotext in enumerate(autotexts):
        if i == labels.index(maxlable[0]) and highlight=='max':
            autotext.set_color('white')  # 突出显示部分的注释文字颜色为白色
            autotext.set_fontweight('bold')  # 突出显示部分的注释文字加粗
            autotext.set_fontsize(17)  # 突出显示部分的注释文字加粗
        if i == labels.index(minlable[0]) and highlight=='min':
            autotext.set_color('white')  # 突出显示部分的注释文字颜色为白色
            autotext.set_fontweight('bold')  # 突出显示部分的注释文字加粗
            autotext.set_fontsize(17)  # 突出显示部分的注释文字加粗
    # 添加图表标题和图例
    plt.title(f'Pie Chart of {column}')
    plt.legend(loc='best')
    # 设置坐标轴为相等的圆形
    plt.axis('equal')
    # 显示图表
    plt.show()



# 使用案例
data = {
    'day_of_week': [1,2,3,4,5,6,7,8,9,6,5,4,7]
    
}
df = pd.DataFrame(data)

plot_custom_pie_chart(train_data, 'job_title', "max")



import pandas as pd
import seaborn as sns
import matplotlib.pyplot as plt

def plot_violin(data, x_variable, y_variable,hu=None):
    if hu is not None:
        if data[hu].nunique()>2:
            ax = sns.violinplot(x=x_variable, y=y_variable, hue=hu,data=data)
        else:
            ax = sns.violinplot(x=x_variable, y=y_variable, hue=hu,data=data,split=True)
        ax.set_title(f"Distribution of {y_variable} by {x_variable} and {hu}")
    else:
        ax = sns.violinplot(x=x_variable, y=y_variable, hue=hu,data=data,split=True)
        ax.set_title(f"Distribution of {y_variable} per {x_variable}")
    plt.show()
    return ax



# 应用举例    
tips = sns.load_dataset("tips")
tips.head()
plot_violin(tips,'day','tip')
plot_violin(train_data, 'salary_in_usd','company_location')
plot_violin(tips,'day','tip','size')



plot_violin(train_data, 'company_location','salary_in_usd')


tips['tip'].describe()


def duanli_plqotbox(data,target):
    # outliers={}
    for item in target:
        ax = sns.boxplot(data=data[item],showmeans=True,flierprops = {'marker':'o','markerfacecolor':'red','color':'black'})
        ax.set_title(f"box of {item}")
        temp=data[item].describe()
        mean=temp['mean']
        median=temp['50%']
        q1=temp['25%']
        q3=temp['75%']
        iqr=q3-q1
        lower_bound = q1 - 1.5 * iqr
        upper_bound = q3 + 1.5 * iqr
        ax.text(0, median, f'Median: {median}', ha='center', va='top')
        ax.text(0, mean, f'Mean: {mean:.2f}', ha='center', va='top')
        ax.text(0, q1, f'25%: {q1}', ha='center', va='top')
        ax.text(0, q3, f'75%: {q3}', ha='center', va='top')
        outlier=data[(data[target] < lower_bound) | (data[target] >upper_bound)]
        print(outlier['tip'])
        print(type(outlier))
        # index=[data.index[data[target]==i][0] for i in outlier]
        outliers={item:outlier}
    return outliers

a=duanli_plqotbox(tips,['tip'])
print(a)


import pandas as pd
import seaborn as sns
import matplotlib.pyplot as plt

def duanli_plotbox(data, target):
    target_data = data[target]
    ax = sns.boxplot(data=target_data,showmeans=True,flierprops = {'marker':'o','markerfacecolor':'red','color':'black'})
    ax.set_title(f'Boxplot of {target}')
    temp=target_data.describe()
    mean=temp['mean']
    median=temp['50%']
    
    
    q1 = target_data.quantile(0.25)
    q3 = target_data.quantile(0.75)
    iqr = q3 - q1
    lower_bound = q1-3*iqr
    upper_bound = q3+3*iqr
    print(lower_bound,upper_bound)
    outliers = target_data[(target_data < lower_bound) | (target_data > upper_bound)].tolist()
    ax.text(0, median, f'Median: {median}', ha='center', va='top')
    ax.text(0, mean, f'Mean: {mean:.2f}', ha='center', va='top')
    ax.text(0, q1, f'25%: {q1}', ha='center', va='top')
    ax.text(0, q3, f'75%: {q3}', ha='center', va='top')
    std=data[target].std()
    lower=data[target].mean()-3*std
    upper=data[target].mean()+3*std
    outliers1 = target_data[(target_data < lower) | (target_data > upper)].tolist()
    print(outliers1)
    # outliers = (data[(data[target] < lower_bound) | (data[target] > upper_bound)])
    # outliers = (target_data[(target_data[target] < lower_bound) | (target_data[target] > upper_bound)]).values.tolist()
    # outliers.extend(outliers)
    
    
    return outliers


outlier_indices = duanli_plotbox(train_data, 'salary_in_usd')


outlier_indices


for i in range(len(outlier_indices)):
    inp1=f"""
        Question: what is the best chioce for handing the outlier  {outlier_indices[i]} in the column "salary_in_usd" of the datase? \
        A. drop it;\
        B. replace it with midan;\
        C. replace it with mean;\
        D. replace it with mode;\
        E. keep it;\
        \
        You only can choose the correct option by indicating the corresponding letter in your response,without any other words or characters.\
        if you can not make a right response, just response "F" directly，without any other word  or character.\
        For example, if the correct answer is drop it, you only can respond with "A",without any other word or character.\
    """
    print(outlier_indices[i])
    a=chat2(inp1)
    print(a)


inp1=f"""
        Question: check through the column "salary_in_usd",is it normal data in this column is negative? \
        response only "yes" or "no",without anyother word or character.\
    """
print(outlier_indices[i])
a=chat2(inp1)
print(a)


print(a)


data = {
    'month_of_year': [9,2,1,4,5,3,7,8,60]
    
}
df = pd.DataFrame(data)
introduce1=f"""
- this Dataset contains 1 columns, each are:\
- month_of_year:This column refers to the month of the year.\
"""
messages=[{'role':"system",'content':f"""you are a professional Data scientist.\
    any of your responses have to base on the dataset delimited by <> and the introduce delimited by briple backticks.\
    dataset:<{df}>\
    introduce:'''{introduce1}''' \
          """}]
inp1=f"""
        check through the column "month_of_year",\
        understand the true meaning of the name of the column and determine the valid numeric value range for a given number.\
        
        Question: what is the valid numeric value rangee you got from your analysis?\
        please provide the valid range at most two numbers,without anyother chracters.
"""
a=chat2(inp1)
print(a)








import openai
key=''
openai.api_key=key


introduce=f"""
- Data Science Job Salaries Dataset contains 11 columns, each are:\
- work_year: The year the salary was paid.\
- experience_level: The experience level in the job during the year\
- employment_type: The type of employment for the role\
- job_title: The role worked in during the year.\
- salary: The total gross salary amount paid.\
- salary_currency: The currency of the salary paid as an ISO 4217 currency code.\
- salary_in_usd: The salary in USD\
- employee_residence: Employee's primary country of residence in during the work year as an ISO 3166 country code.\
- remote_ratio: The overall amount of work done remotely\
- company_location: The country of the employer's main office or contracting branch\
- company_size: The median number of people that worked for the company during the year\
"""
messages=[{'role':"system",'content':f"""you are a professional Data scientist.\
    any of your responses have to base on the dataset delimited by <> and the introduce delimited by briple backticks.\
    dataset:<{train_data}>\
    introduce:'''{introduce}''' \
          """}]


def chat2(inp,role='user'):
    messages.append({'role':role,'content':inp})
    response=openai.ChatCompletion.create(
        model='gpt-3.5-turbo',
        messages=messages,
        temperature=0)
    reply_content=response.choices[0].message.content
    messages.append({'role':'assistant','content':reply_content})
    return reply_content


train_data.head()


inp1=f"""
    you need to wrok on the dataset delimited by <>,the introduce delimited by the briple backticks just for you to\
    understand the dataset better,\
    what is the best way to do visualization for the column 'job_title'?.\
    dataset:<{train_data}>\
    introduce:'''{introduce}'''\
"""





a=chat2(inp1)


print(a)


print(a)



