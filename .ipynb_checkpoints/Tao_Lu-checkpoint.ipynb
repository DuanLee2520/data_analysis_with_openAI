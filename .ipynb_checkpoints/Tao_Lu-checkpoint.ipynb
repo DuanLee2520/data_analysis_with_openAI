{
 "cells": [
  {
   "cell_type": "code",
   "execution_count": 1,
   "id": "0f8b92bd-e855-4490-b4d8-f4cb1957a1e3",
   "metadata": {},
   "outputs": [],
   "source": [
    "import warnings\n",
    "warnings.filterwarnings(\"ignore\")\n",
    "# loading packages\n",
    "# 1 basic\n",
    "from datetime import datetime\n",
    "from datetime import timedelta\n",
    "import numpy as np\n",
    "import pandas as pd\n",
    "from pandas import Series,DataFrame"
   ]
  },
  {
   "cell_type": "markdown",
   "id": "acfef63f-20f4-4632-8d44-68cf47ad4b08",
   "metadata": {},
   "source": [
    "## 导入数据函数："
   ]
  },
  {
   "cell_type": "code",
   "execution_count": 2,
   "id": "10983fba-0940-426d-8288-b327936b2d95",
   "metadata": {},
   "outputs": [],
   "source": [
    "def open_file(file_name):\n",
    "    if file_name.endswith('.csv'):\n",
    "        data = pd.read_csv(file_name)\n",
    "    elif file_name.endswith('.xlsx') or file_name.endswith('.xls'):\n",
    "        data = pd.read_excel(file_name)\n",
    "    elif file_name.endswith('.json'):\n",
    "        data = pd.read_json(file_name)\n",
    "    elif file_name.endswith('.pkl'):\n",
    "        data = pd.read_pickle(file_name)\n",
    "    else:\n",
    "        raise ValueError(\"Unsupported file format. Please provide a file with .csv, .xlsx, .xls, or .json extension.\")\n",
    "    return data"
   ]
  },
  {
   "cell_type": "code",
   "execution_count": 3,
   "id": "89d8edb7-6837-4e14-a450-d6cda829b730",
   "metadata": {},
   "outputs": [
    {
     "ename": "FileNotFoundError",
     "evalue": "[Errno 2] No such file or directory: 'store.csv'",
     "output_type": "error",
     "traceback": [
      "\u001b[1;31m---------------------------------------------------------------------------\u001b[0m",
      "\u001b[1;31mFileNotFoundError\u001b[0m                         Traceback (most recent call last)",
      "Input \u001b[1;32mIn [3]\u001b[0m, in \u001b[0;36m<cell line: 2>\u001b[1;34m()\u001b[0m\n\u001b[0;32m      1\u001b[0m train_data\u001b[38;5;241m=\u001b[39mopen_file(\u001b[38;5;124m\"\u001b[39m\u001b[38;5;124mds_salaries.csv\u001b[39m\u001b[38;5;124m\"\u001b[39m)\n\u001b[1;32m----> 2\u001b[0m store_data\u001b[38;5;241m=\u001b[39m\u001b[43mopen_file\u001b[49m\u001b[43m(\u001b[49m\u001b[38;5;124;43m'\u001b[39;49m\u001b[38;5;124;43mstore.csv\u001b[39;49m\u001b[38;5;124;43m'\u001b[39;49m\u001b[43m)\u001b[49m\n",
      "Input \u001b[1;32mIn [2]\u001b[0m, in \u001b[0;36mopen_file\u001b[1;34m(file_name)\u001b[0m\n\u001b[0;32m      1\u001b[0m \u001b[38;5;28;01mdef\u001b[39;00m \u001b[38;5;21mopen_file\u001b[39m(file_name):\n\u001b[0;32m      2\u001b[0m     \u001b[38;5;28;01mif\u001b[39;00m file_name\u001b[38;5;241m.\u001b[39mendswith(\u001b[38;5;124m'\u001b[39m\u001b[38;5;124m.csv\u001b[39m\u001b[38;5;124m'\u001b[39m):\n\u001b[1;32m----> 3\u001b[0m         data \u001b[38;5;241m=\u001b[39m \u001b[43mpd\u001b[49m\u001b[38;5;241;43m.\u001b[39;49m\u001b[43mread_csv\u001b[49m\u001b[43m(\u001b[49m\u001b[43mfile_name\u001b[49m\u001b[43m)\u001b[49m\n\u001b[0;32m      4\u001b[0m     \u001b[38;5;28;01melif\u001b[39;00m file_name\u001b[38;5;241m.\u001b[39mendswith(\u001b[38;5;124m'\u001b[39m\u001b[38;5;124m.xlsx\u001b[39m\u001b[38;5;124m'\u001b[39m) \u001b[38;5;129;01mor\u001b[39;00m file_name\u001b[38;5;241m.\u001b[39mendswith(\u001b[38;5;124m'\u001b[39m\u001b[38;5;124m.xls\u001b[39m\u001b[38;5;124m'\u001b[39m):\n\u001b[0;32m      5\u001b[0m         data \u001b[38;5;241m=\u001b[39m pd\u001b[38;5;241m.\u001b[39mread_excel(file_name)\n",
      "File \u001b[1;32m~\\anaconda3\\envs\\mcl\\lib\\site-packages\\pandas\\util\\_decorators.py:311\u001b[0m, in \u001b[0;36mdeprecate_nonkeyword_arguments.<locals>.decorate.<locals>.wrapper\u001b[1;34m(*args, **kwargs)\u001b[0m\n\u001b[0;32m    305\u001b[0m \u001b[38;5;28;01mif\u001b[39;00m \u001b[38;5;28mlen\u001b[39m(args) \u001b[38;5;241m>\u001b[39m num_allow_args:\n\u001b[0;32m    306\u001b[0m     warnings\u001b[38;5;241m.\u001b[39mwarn(\n\u001b[0;32m    307\u001b[0m         msg\u001b[38;5;241m.\u001b[39mformat(arguments\u001b[38;5;241m=\u001b[39marguments),\n\u001b[0;32m    308\u001b[0m         \u001b[38;5;167;01mFutureWarning\u001b[39;00m,\n\u001b[0;32m    309\u001b[0m         stacklevel\u001b[38;5;241m=\u001b[39mstacklevel,\n\u001b[0;32m    310\u001b[0m     )\n\u001b[1;32m--> 311\u001b[0m \u001b[38;5;28;01mreturn\u001b[39;00m func(\u001b[38;5;241m*\u001b[39margs, \u001b[38;5;241m*\u001b[39m\u001b[38;5;241m*\u001b[39mkwargs)\n",
      "File \u001b[1;32m~\\anaconda3\\envs\\mcl\\lib\\site-packages\\pandas\\io\\parsers\\readers.py:680\u001b[0m, in \u001b[0;36mread_csv\u001b[1;34m(filepath_or_buffer, sep, delimiter, header, names, index_col, usecols, squeeze, prefix, mangle_dupe_cols, dtype, engine, converters, true_values, false_values, skipinitialspace, skiprows, skipfooter, nrows, na_values, keep_default_na, na_filter, verbose, skip_blank_lines, parse_dates, infer_datetime_format, keep_date_col, date_parser, dayfirst, cache_dates, iterator, chunksize, compression, thousands, decimal, lineterminator, quotechar, quoting, doublequote, escapechar, comment, encoding, encoding_errors, dialect, error_bad_lines, warn_bad_lines, on_bad_lines, delim_whitespace, low_memory, memory_map, float_precision, storage_options)\u001b[0m\n\u001b[0;32m    665\u001b[0m kwds_defaults \u001b[38;5;241m=\u001b[39m _refine_defaults_read(\n\u001b[0;32m    666\u001b[0m     dialect,\n\u001b[0;32m    667\u001b[0m     delimiter,\n\u001b[1;32m   (...)\u001b[0m\n\u001b[0;32m    676\u001b[0m     defaults\u001b[38;5;241m=\u001b[39m{\u001b[38;5;124m\"\u001b[39m\u001b[38;5;124mdelimiter\u001b[39m\u001b[38;5;124m\"\u001b[39m: \u001b[38;5;124m\"\u001b[39m\u001b[38;5;124m,\u001b[39m\u001b[38;5;124m\"\u001b[39m},\n\u001b[0;32m    677\u001b[0m )\n\u001b[0;32m    678\u001b[0m kwds\u001b[38;5;241m.\u001b[39mupdate(kwds_defaults)\n\u001b[1;32m--> 680\u001b[0m \u001b[38;5;28;01mreturn\u001b[39;00m \u001b[43m_read\u001b[49m\u001b[43m(\u001b[49m\u001b[43mfilepath_or_buffer\u001b[49m\u001b[43m,\u001b[49m\u001b[43m \u001b[49m\u001b[43mkwds\u001b[49m\u001b[43m)\u001b[49m\n",
      "File \u001b[1;32m~\\anaconda3\\envs\\mcl\\lib\\site-packages\\pandas\\io\\parsers\\readers.py:575\u001b[0m, in \u001b[0;36m_read\u001b[1;34m(filepath_or_buffer, kwds)\u001b[0m\n\u001b[0;32m    572\u001b[0m _validate_names(kwds\u001b[38;5;241m.\u001b[39mget(\u001b[38;5;124m\"\u001b[39m\u001b[38;5;124mnames\u001b[39m\u001b[38;5;124m\"\u001b[39m, \u001b[38;5;28;01mNone\u001b[39;00m))\n\u001b[0;32m    574\u001b[0m \u001b[38;5;66;03m# Create the parser.\u001b[39;00m\n\u001b[1;32m--> 575\u001b[0m parser \u001b[38;5;241m=\u001b[39m TextFileReader(filepath_or_buffer, \u001b[38;5;241m*\u001b[39m\u001b[38;5;241m*\u001b[39mkwds)\n\u001b[0;32m    577\u001b[0m \u001b[38;5;28;01mif\u001b[39;00m chunksize \u001b[38;5;129;01mor\u001b[39;00m iterator:\n\u001b[0;32m    578\u001b[0m     \u001b[38;5;28;01mreturn\u001b[39;00m parser\n",
      "File \u001b[1;32m~\\anaconda3\\envs\\mcl\\lib\\site-packages\\pandas\\io\\parsers\\readers.py:934\u001b[0m, in \u001b[0;36mTextFileReader.__init__\u001b[1;34m(self, f, engine, **kwds)\u001b[0m\n\u001b[0;32m    931\u001b[0m     \u001b[38;5;28mself\u001b[39m\u001b[38;5;241m.\u001b[39moptions[\u001b[38;5;124m\"\u001b[39m\u001b[38;5;124mhas_index_names\u001b[39m\u001b[38;5;124m\"\u001b[39m] \u001b[38;5;241m=\u001b[39m kwds[\u001b[38;5;124m\"\u001b[39m\u001b[38;5;124mhas_index_names\u001b[39m\u001b[38;5;124m\"\u001b[39m]\n\u001b[0;32m    933\u001b[0m \u001b[38;5;28mself\u001b[39m\u001b[38;5;241m.\u001b[39mhandles: IOHandles \u001b[38;5;241m|\u001b[39m \u001b[38;5;28;01mNone\u001b[39;00m \u001b[38;5;241m=\u001b[39m \u001b[38;5;28;01mNone\u001b[39;00m\n\u001b[1;32m--> 934\u001b[0m \u001b[38;5;28mself\u001b[39m\u001b[38;5;241m.\u001b[39m_engine \u001b[38;5;241m=\u001b[39m \u001b[38;5;28;43mself\u001b[39;49m\u001b[38;5;241;43m.\u001b[39;49m\u001b[43m_make_engine\u001b[49m\u001b[43m(\u001b[49m\u001b[43mf\u001b[49m\u001b[43m,\u001b[49m\u001b[43m \u001b[49m\u001b[38;5;28;43mself\u001b[39;49m\u001b[38;5;241;43m.\u001b[39;49m\u001b[43mengine\u001b[49m\u001b[43m)\u001b[49m\n",
      "File \u001b[1;32m~\\anaconda3\\envs\\mcl\\lib\\site-packages\\pandas\\io\\parsers\\readers.py:1218\u001b[0m, in \u001b[0;36mTextFileReader._make_engine\u001b[1;34m(self, f, engine)\u001b[0m\n\u001b[0;32m   1214\u001b[0m     mode \u001b[38;5;241m=\u001b[39m \u001b[38;5;124m\"\u001b[39m\u001b[38;5;124mrb\u001b[39m\u001b[38;5;124m\"\u001b[39m\n\u001b[0;32m   1215\u001b[0m \u001b[38;5;66;03m# error: No overload variant of \"get_handle\" matches argument types\u001b[39;00m\n\u001b[0;32m   1216\u001b[0m \u001b[38;5;66;03m# \"Union[str, PathLike[str], ReadCsvBuffer[bytes], ReadCsvBuffer[str]]\"\u001b[39;00m\n\u001b[0;32m   1217\u001b[0m \u001b[38;5;66;03m# , \"str\", \"bool\", \"Any\", \"Any\", \"Any\", \"Any\", \"Any\"\u001b[39;00m\n\u001b[1;32m-> 1218\u001b[0m \u001b[38;5;28mself\u001b[39m\u001b[38;5;241m.\u001b[39mhandles \u001b[38;5;241m=\u001b[39m \u001b[43mget_handle\u001b[49m\u001b[43m(\u001b[49m\u001b[43m  \u001b[49m\u001b[38;5;66;43;03m# type: ignore[call-overload]\u001b[39;49;00m\n\u001b[0;32m   1219\u001b[0m \u001b[43m    \u001b[49m\u001b[43mf\u001b[49m\u001b[43m,\u001b[49m\n\u001b[0;32m   1220\u001b[0m \u001b[43m    \u001b[49m\u001b[43mmode\u001b[49m\u001b[43m,\u001b[49m\n\u001b[0;32m   1221\u001b[0m \u001b[43m    \u001b[49m\u001b[43mencoding\u001b[49m\u001b[38;5;241;43m=\u001b[39;49m\u001b[38;5;28;43mself\u001b[39;49m\u001b[38;5;241;43m.\u001b[39;49m\u001b[43moptions\u001b[49m\u001b[38;5;241;43m.\u001b[39;49m\u001b[43mget\u001b[49m\u001b[43m(\u001b[49m\u001b[38;5;124;43m\"\u001b[39;49m\u001b[38;5;124;43mencoding\u001b[39;49m\u001b[38;5;124;43m\"\u001b[39;49m\u001b[43m,\u001b[49m\u001b[43m \u001b[49m\u001b[38;5;28;43;01mNone\u001b[39;49;00m\u001b[43m)\u001b[49m\u001b[43m,\u001b[49m\n\u001b[0;32m   1222\u001b[0m \u001b[43m    \u001b[49m\u001b[43mcompression\u001b[49m\u001b[38;5;241;43m=\u001b[39;49m\u001b[38;5;28;43mself\u001b[39;49m\u001b[38;5;241;43m.\u001b[39;49m\u001b[43moptions\u001b[49m\u001b[38;5;241;43m.\u001b[39;49m\u001b[43mget\u001b[49m\u001b[43m(\u001b[49m\u001b[38;5;124;43m\"\u001b[39;49m\u001b[38;5;124;43mcompression\u001b[39;49m\u001b[38;5;124;43m\"\u001b[39;49m\u001b[43m,\u001b[49m\u001b[43m \u001b[49m\u001b[38;5;28;43;01mNone\u001b[39;49;00m\u001b[43m)\u001b[49m\u001b[43m,\u001b[49m\n\u001b[0;32m   1223\u001b[0m \u001b[43m    \u001b[49m\u001b[43mmemory_map\u001b[49m\u001b[38;5;241;43m=\u001b[39;49m\u001b[38;5;28;43mself\u001b[39;49m\u001b[38;5;241;43m.\u001b[39;49m\u001b[43moptions\u001b[49m\u001b[38;5;241;43m.\u001b[39;49m\u001b[43mget\u001b[49m\u001b[43m(\u001b[49m\u001b[38;5;124;43m\"\u001b[39;49m\u001b[38;5;124;43mmemory_map\u001b[39;49m\u001b[38;5;124;43m\"\u001b[39;49m\u001b[43m,\u001b[49m\u001b[43m \u001b[49m\u001b[38;5;28;43;01mFalse\u001b[39;49;00m\u001b[43m)\u001b[49m\u001b[43m,\u001b[49m\n\u001b[0;32m   1224\u001b[0m \u001b[43m    \u001b[49m\u001b[43mis_text\u001b[49m\u001b[38;5;241;43m=\u001b[39;49m\u001b[43mis_text\u001b[49m\u001b[43m,\u001b[49m\n\u001b[0;32m   1225\u001b[0m \u001b[43m    \u001b[49m\u001b[43merrors\u001b[49m\u001b[38;5;241;43m=\u001b[39;49m\u001b[38;5;28;43mself\u001b[39;49m\u001b[38;5;241;43m.\u001b[39;49m\u001b[43moptions\u001b[49m\u001b[38;5;241;43m.\u001b[39;49m\u001b[43mget\u001b[49m\u001b[43m(\u001b[49m\u001b[38;5;124;43m\"\u001b[39;49m\u001b[38;5;124;43mencoding_errors\u001b[39;49m\u001b[38;5;124;43m\"\u001b[39;49m\u001b[43m,\u001b[49m\u001b[43m \u001b[49m\u001b[38;5;124;43m\"\u001b[39;49m\u001b[38;5;124;43mstrict\u001b[39;49m\u001b[38;5;124;43m\"\u001b[39;49m\u001b[43m)\u001b[49m\u001b[43m,\u001b[49m\n\u001b[0;32m   1226\u001b[0m \u001b[43m    \u001b[49m\u001b[43mstorage_options\u001b[49m\u001b[38;5;241;43m=\u001b[39;49m\u001b[38;5;28;43mself\u001b[39;49m\u001b[38;5;241;43m.\u001b[39;49m\u001b[43moptions\u001b[49m\u001b[38;5;241;43m.\u001b[39;49m\u001b[43mget\u001b[49m\u001b[43m(\u001b[49m\u001b[38;5;124;43m\"\u001b[39;49m\u001b[38;5;124;43mstorage_options\u001b[39;49m\u001b[38;5;124;43m\"\u001b[39;49m\u001b[43m,\u001b[49m\u001b[43m \u001b[49m\u001b[38;5;28;43;01mNone\u001b[39;49;00m\u001b[43m)\u001b[49m\u001b[43m,\u001b[49m\n\u001b[0;32m   1227\u001b[0m \u001b[43m\u001b[49m\u001b[43m)\u001b[49m\n\u001b[0;32m   1228\u001b[0m \u001b[38;5;28;01massert\u001b[39;00m \u001b[38;5;28mself\u001b[39m\u001b[38;5;241m.\u001b[39mhandles \u001b[38;5;129;01mis\u001b[39;00m \u001b[38;5;129;01mnot\u001b[39;00m \u001b[38;5;28;01mNone\u001b[39;00m\n\u001b[0;32m   1229\u001b[0m f \u001b[38;5;241m=\u001b[39m \u001b[38;5;28mself\u001b[39m\u001b[38;5;241m.\u001b[39mhandles\u001b[38;5;241m.\u001b[39mhandle\n",
      "File \u001b[1;32m~\\anaconda3\\envs\\mcl\\lib\\site-packages\\pandas\\io\\common.py:786\u001b[0m, in \u001b[0;36mget_handle\u001b[1;34m(path_or_buf, mode, encoding, compression, memory_map, is_text, errors, storage_options)\u001b[0m\n\u001b[0;32m    781\u001b[0m \u001b[38;5;28;01melif\u001b[39;00m \u001b[38;5;28misinstance\u001b[39m(handle, \u001b[38;5;28mstr\u001b[39m):\n\u001b[0;32m    782\u001b[0m     \u001b[38;5;66;03m# Check whether the filename is to be opened in binary mode.\u001b[39;00m\n\u001b[0;32m    783\u001b[0m     \u001b[38;5;66;03m# Binary mode does not support 'encoding' and 'newline'.\u001b[39;00m\n\u001b[0;32m    784\u001b[0m     \u001b[38;5;28;01mif\u001b[39;00m ioargs\u001b[38;5;241m.\u001b[39mencoding \u001b[38;5;129;01mand\u001b[39;00m \u001b[38;5;124m\"\u001b[39m\u001b[38;5;124mb\u001b[39m\u001b[38;5;124m\"\u001b[39m \u001b[38;5;129;01mnot\u001b[39;00m \u001b[38;5;129;01min\u001b[39;00m ioargs\u001b[38;5;241m.\u001b[39mmode:\n\u001b[0;32m    785\u001b[0m         \u001b[38;5;66;03m# Encoding\u001b[39;00m\n\u001b[1;32m--> 786\u001b[0m         handle \u001b[38;5;241m=\u001b[39m \u001b[38;5;28;43mopen\u001b[39;49m\u001b[43m(\u001b[49m\n\u001b[0;32m    787\u001b[0m \u001b[43m            \u001b[49m\u001b[43mhandle\u001b[49m\u001b[43m,\u001b[49m\n\u001b[0;32m    788\u001b[0m \u001b[43m            \u001b[49m\u001b[43mioargs\u001b[49m\u001b[38;5;241;43m.\u001b[39;49m\u001b[43mmode\u001b[49m\u001b[43m,\u001b[49m\n\u001b[0;32m    789\u001b[0m \u001b[43m            \u001b[49m\u001b[43mencoding\u001b[49m\u001b[38;5;241;43m=\u001b[39;49m\u001b[43mioargs\u001b[49m\u001b[38;5;241;43m.\u001b[39;49m\u001b[43mencoding\u001b[49m\u001b[43m,\u001b[49m\n\u001b[0;32m    790\u001b[0m \u001b[43m            \u001b[49m\u001b[43merrors\u001b[49m\u001b[38;5;241;43m=\u001b[39;49m\u001b[43merrors\u001b[49m\u001b[43m,\u001b[49m\n\u001b[0;32m    791\u001b[0m \u001b[43m            \u001b[49m\u001b[43mnewline\u001b[49m\u001b[38;5;241;43m=\u001b[39;49m\u001b[38;5;124;43m\"\u001b[39;49m\u001b[38;5;124;43m\"\u001b[39;49m\u001b[43m,\u001b[49m\n\u001b[0;32m    792\u001b[0m \u001b[43m        \u001b[49m\u001b[43m)\u001b[49m\n\u001b[0;32m    793\u001b[0m     \u001b[38;5;28;01melse\u001b[39;00m:\n\u001b[0;32m    794\u001b[0m         \u001b[38;5;66;03m# Binary mode\u001b[39;00m\n\u001b[0;32m    795\u001b[0m         handle \u001b[38;5;241m=\u001b[39m \u001b[38;5;28mopen\u001b[39m(handle, ioargs\u001b[38;5;241m.\u001b[39mmode)\n",
      "\u001b[1;31mFileNotFoundError\u001b[0m: [Errno 2] No such file or directory: 'store.csv'"
     ]
    }
   ],
   "source": [
    "train_data=open_file(\"ds_salaries.csv\")\n",
    "store_data=open_file('store.csv')"
   ]
  },
  {
   "cell_type": "markdown",
   "id": "654fa80b-c2b4-4cbb-b21f-5361000f5076",
   "metadata": {},
   "source": [
    "## 初步查看数据"
   ]
  },
  {
   "cell_type": "code",
   "execution_count": 305,
   "id": "a04e81c0-ad0f-4bd5-8695-eb4bbe13f3e0",
   "metadata": {},
   "outputs": [],
   "source": [
    "# 传入数据，和数据的名字，得到数据的前五行数据，和info\n",
    "def check_file(data,data_name):\n",
    "    print('{:*^30}'.format('{} first 5 rows').format(data_name))\n",
    "    print(data.head(5))\n",
    "    print('{:*^30}'.format('{} info of each column').format(data_name))\n",
    "    print(data.info(),'\\n','\\n')"
   ]
  },
  {
   "cell_type": "code",
   "execution_count": 306,
   "id": "c5b05153-5a8e-4121-9866-749e35d6c02e",
   "metadata": {},
   "outputs": [
    {
     "name": "stdout",
     "output_type": "stream",
     "text": [
      "*******train_data first 5 rows********\n",
      "   work_year experience_level employment_type                 job_title  \\\n",
      "0       2023               SE              FT  Principal Data Scientist   \n",
      "1       2023               MI              CT               ML Engineer   \n",
      "2       2023               MI              CT               ML Engineer   \n",
      "3       2023               SE              FT            Data Scientist   \n",
      "4       2023               SE              FT            Data Scientist   \n",
      "\n",
      "   salary salary_currency  salary_in_usd employee_residence  remote_ratio  \\\n",
      "0   80000             EUR          85847                 ES           100   \n",
      "1   30000             USD          30000                 US           100   \n",
      "2   25500             USD          25500                 US           100   \n",
      "3  175000             USD         175000                 CA           100   \n",
      "4  120000             USD         120000                 CA           100   \n",
      "\n",
      "  company_location company_size  \n",
      "0               ES            L  \n",
      "1               US            S  \n",
      "2               US            S  \n",
      "3               CA            M  \n",
      "4               CA            M  \n",
      "****train_data info of each column****\n",
      "<class 'pandas.core.frame.DataFrame'>\n",
      "RangeIndex: 3755 entries, 0 to 3754\n",
      "Data columns (total 11 columns):\n",
      " #   Column              Non-Null Count  Dtype \n",
      "---  ------              --------------  ----- \n",
      " 0   work_year           3755 non-null   int64 \n",
      " 1   experience_level    3755 non-null   object\n",
      " 2   employment_type     3755 non-null   object\n",
      " 3   job_title           3755 non-null   object\n",
      " 4   salary              3755 non-null   int64 \n",
      " 5   salary_currency     3755 non-null   object\n",
      " 6   salary_in_usd       3755 non-null   int64 \n",
      " 7   employee_residence  3755 non-null   object\n",
      " 8   remote_ratio        3755 non-null   int64 \n",
      " 9   company_location    3755 non-null   object\n",
      " 10  company_size        3755 non-null   object\n",
      "dtypes: int64(4), object(7)\n",
      "memory usage: 322.8+ KB\n",
      "None \n",
      " \n",
      "\n"
     ]
    }
   ],
   "source": [
    "check_file(train_data,'train_data')"
   ]
  },
  {
   "cell_type": "markdown",
   "id": "e09e4c58-e3f0-4981-97f2-32ab0c24f011",
   "metadata": {
    "tags": []
   },
   "source": [
    "## one-hot编码，就是转化为0，1格式"
   ]
  },
  {
   "cell_type": "markdown",
   "id": "86c4580e-8995-4550-8ab3-ed598ffbdcd7",
   "metadata": {},
   "source": [
    "### 第一种：对数据某一列进行0-1化，要求这列的每一行都只有单个的值"
   ]
  },
  {
   "cell_type": "code",
   "execution_count": null,
   "id": "38393d26-369d-472a-aaa7-5cd5c9b10647",
   "metadata": {},
   "outputs": [],
   "source": [
    "# 传入数据集dataframe，和需要编码吗的列名称【列1，列2····】，返回0 1 编码，按照每一列的数据，\n",
    "# 内部逻辑就是对每一列进行0 1 编码,比如：传入的一列全是数字，最大值是7，那么编码结果就是生成0~7列，原来是3的就在第三列显示1，原来是5的就在第5列显示1\n",
    "def convert_to_twovalues(data,columns):\n",
    "    connect_column=[]\n",
    "    for item in columns:\n",
    "        df_tem=pd.get_dummies(data[item],prefix=item)\n",
    "        connect_column.append(df_tem)\n",
    "    data_new=pd.concat(connect_column,axis=1)\n",
    "    return data_new"
   ]
  },
  {
   "cell_type": "markdown",
   "id": "42966f68-0e73-48e1-9a93-c09be4c4f41a",
   "metadata": {},
   "source": [
    "### 第二种：对数据某一列进行0-1化，要求这列的每一行都有多个值，且用‘，’隔开的，如果是用其他隔开的，需要修改函数内部join（）和get_dummies()"
   ]
  },
  {
   "cell_type": "code",
   "execution_count": 4,
   "id": "6e868d06-cc70-4523-ab14-4c80f3473fdf",
   "metadata": {},
   "outputs": [],
   "source": [
    "# 传入dataframe数据集，和需要0 1 化的列名称，每一列需要是一个str的list格式比如【】\n",
    "def one_hot(data,columns):\n",
    "    connect_column=[]\n",
    "    for item in columns:\n",
    "        temp=data[item].str.join(',')\n",
    "        df_tem=temp.str.get_dummies(',')\n",
    "        connect_column.append(df_tem)\n",
    "    data_new=pd.concat(connect_column,axis=1)\n",
    "    return data_new"
   ]
  },
  {
   "cell_type": "markdown",
   "id": "def77e49-b5f7-413f-8bee-1cb8bd2324a6",
   "metadata": {},
   "source": [
    "##### 第二种举例："
   ]
  },
  {
   "cell_type": "code",
   "execution_count": 15,
   "id": "807a4069-b52d-419c-b816-5bf17ec6b51e",
   "metadata": {},
   "outputs": [],
   "source": [
    "retail_1=pd.DataFrame({'id':[1,2,3],'basket':[['b','d','p','c','a'],\n",
    "                                ['b','f','p'],\n",
    "                                ['m','q','p','e','a'] ]\n",
    "         })"
   ]
  },
  {
   "cell_type": "code",
   "execution_count": 85,
   "id": "05efdb7f-5e5e-47a7-8ba3-f29d01bfba22",
   "metadata": {},
   "outputs": [
    {
     "data": {
      "text/html": [
       "<div>\n",
       "<style scoped>\n",
       "    .dataframe tbody tr th:only-of-type {\n",
       "        vertical-align: middle;\n",
       "    }\n",
       "\n",
       "    .dataframe tbody tr th {\n",
       "        vertical-align: top;\n",
       "    }\n",
       "\n",
       "    .dataframe thead th {\n",
       "        text-align: right;\n",
       "    }\n",
       "</style>\n",
       "<table border=\"1\" class=\"dataframe\">\n",
       "  <thead>\n",
       "    <tr style=\"text-align: right;\">\n",
       "      <th></th>\n",
       "      <th>a</th>\n",
       "      <th>b</th>\n",
       "      <th>c</th>\n",
       "      <th>d</th>\n",
       "      <th>e</th>\n",
       "      <th>f</th>\n",
       "      <th>m</th>\n",
       "      <th>p</th>\n",
       "      <th>q</th>\n",
       "    </tr>\n",
       "  </thead>\n",
       "  <tbody>\n",
       "    <tr>\n",
       "      <th>0</th>\n",
       "      <td>1</td>\n",
       "      <td>1</td>\n",
       "      <td>1</td>\n",
       "      <td>1</td>\n",
       "      <td>0</td>\n",
       "      <td>0</td>\n",
       "      <td>0</td>\n",
       "      <td>1</td>\n",
       "      <td>0</td>\n",
       "    </tr>\n",
       "    <tr>\n",
       "      <th>1</th>\n",
       "      <td>0</td>\n",
       "      <td>1</td>\n",
       "      <td>0</td>\n",
       "      <td>0</td>\n",
       "      <td>0</td>\n",
       "      <td>1</td>\n",
       "      <td>0</td>\n",
       "      <td>1</td>\n",
       "      <td>0</td>\n",
       "    </tr>\n",
       "    <tr>\n",
       "      <th>2</th>\n",
       "      <td>1</td>\n",
       "      <td>0</td>\n",
       "      <td>0</td>\n",
       "      <td>0</td>\n",
       "      <td>1</td>\n",
       "      <td>0</td>\n",
       "      <td>1</td>\n",
       "      <td>1</td>\n",
       "      <td>1</td>\n",
       "    </tr>\n",
       "  </tbody>\n",
       "</table>\n",
       "</div>"
      ],
      "text/plain": [
       "   a  b  c  d  e  f  m  p  q\n",
       "0  1  1  1  1  0  0  0  1  0\n",
       "1  0  1  0  0  0  1  0  1  0\n",
       "2  1  0  0  0  1  0  1  1  1"
      ]
     },
     "execution_count": 85,
     "metadata": {},
     "output_type": "execute_result"
    }
   ],
   "source": [
    "a=one_hot(retail_1,['basket'])\n",
    "a"
   ]
  },
  {
   "cell_type": "markdown",
   "id": "32ebd798-53b5-421b-ac56-18646ef35849",
   "metadata": {},
   "source": [
    "## 关联规则分析\n",
    "###  需要传入的是经过one_hot处理过的数据，会自动分析打印这些项的关联规则分析结果\n",
    "\n",
    "###### 分析指标含义：\n",
    "###### {A} -> {B}，提升度 =2.这表示当 A 出现时，B 的出现概率是 A 不出现时的 2 倍。\n",
    "###### {A} -> {B}，置信度 = 0.6.这表示当 A 出现时，B 同时出现的概率为 0.6 或 60%。\n",
    "###### {A} -> {B}，确信度的取值范围为 [0, +∞].确信度为0表示前项和后项之间没有关联性，确信度越接近+∞，表示后项的依赖程度越强，。"
   ]
  },
  {
   "cell_type": "code",
   "execution_count": 105,
   "id": "abd48d44-0294-4826-9e2e-db453f441f61",
   "metadata": {},
   "outputs": [],
   "source": [
    "from mlxtend.frequent_patterns import apriori\n",
    "from mlxtend.frequent_patterns import association_rules \n",
    "def association_rule(data):\n",
    "    frequent_itemsets = apriori(data, min_support=0.5, use_colnames=True)\n",
    "    for item in [[\"lift\",1.1],[\"confidence\",0.7]]:\n",
    "        rules = association_rules(frequent_itemsets, metric=item[0], min_threshold=item[1])\n",
    "        print('{:*^30}'.format('{} ordering').format(item[0]))\n",
    "        n=len(rules)\n",
    "        for i in range(n):\n",
    "            print(f\"{i} item in {n} \")\n",
    "            A=rules.iloc[i][\"antecedents\"]\n",
    "            B=rules.iloc[i][\"consequents\"]\n",
    "            C=rules.iloc[i][\"lift\"]\n",
    "            D=rules.iloc[i][\"confidence\"]\n",
    "            E=rules.iloc[i][\"conviction\"]\n",
    "            print(f\"lift = {C} ,  When {A} occurs, {B} is {C} times more likely to be present than when {A} is absent \")\n",
    "            print(f\"confidence ={D},  When {A} occurs, the probability that {B} also occurs is {D} \")\n",
    "            print(f\"conviction = {E}\")\n",
    "            if rules.iloc[i][\"conviction\"]== 'inf':\n",
    "                print(f\"The occurrence of the {B} depends almost entirely on {A}\")\n",
    "            if rules.iloc[i][\"conviction\"]== 0:\n",
    "                print(f\"The occurrence of the {B}  has nothing to do with {A}\")\n"
   ]
  },
  {
   "cell_type": "code",
   "execution_count": 106,
   "id": "7279b348-2de6-46f4-9285-e51ec9882985",
   "metadata": {},
   "outputs": [
    {
     "name": "stdout",
     "output_type": "stream",
     "text": [
      "*********lift ordering**********\n",
      "*********confidence ordering**********\n",
      "0 item in 2 \n",
      "lift = 1.0 ,  When frozenset({'a'}) occurs, frozenset({'p'}) is 1.0 times more likely to be present than when frozenset({'a'}) is absent \n",
      "confidence =1.0,  When frozenset({'a'}) occurs, the probability that frozenset({'p'}) also occurs is 1.0 \n",
      "conviction = inf\n",
      "1 item in 2 \n",
      "lift = 1.0 ,  When frozenset({'b'}) occurs, frozenset({'p'}) is 1.0 times more likely to be present than when frozenset({'b'}) is absent \n",
      "confidence =1.0,  When frozenset({'b'}) occurs, the probability that frozenset({'p'}) also occurs is 1.0 \n",
      "conviction = inf\n"
     ]
    }
   ],
   "source": [
    "association_rule(a)"
   ]
  },
  {
   "cell_type": "markdown",
   "id": "483175a4-5b3a-46cc-b9f4-a20ed2059489",
   "metadata": {},
   "source": []
  },
  {
   "cell_type": "markdown",
   "id": "f83a64e8-f1c3-4e0f-98ce-5015b3667578",
   "metadata": {},
   "source": [
    "## 把非标准的日期格式转换为标准的日期格式（年-月-日 时：分：秒）\n",
    "### 同时提取其中的月和星期几新加到数据列中，根据需求修改"
   ]
  },
  {
   "cell_type": "code",
   "execution_count": 141,
   "id": "a489ec58-f0ae-474e-be54-e74fbfda06c5",
   "metadata": {},
   "outputs": [],
   "source": [
    "# data:dataframe 的数据集；  target：需要处理的列名称，可以是1列，也可以是多列\n",
    "def standlizeDate(data,target):\n",
    "    for item in target:\n",
    "        data[item]=pd.to_datetime(data[item],errors='coerce')\n",
    "        data['Month']=data[item].dt.strftime('%b')\n",
    "        data['Weekday'] = data[item].dt.strftime('%a')\n",
    "        data['Hour'] = data[item].dt.strftime('%H')  #提取小时\n",
    "    return data"
   ]
  },
  {
   "cell_type": "code",
   "execution_count": 156,
   "id": "be01508f-b125-44ba-ac93-d5d71be06e89",
   "metadata": {},
   "outputs": [
    {
     "data": {
      "text/html": [
       "<div>\n",
       "<style scoped>\n",
       "    .dataframe tbody tr th:only-of-type {\n",
       "        vertical-align: middle;\n",
       "    }\n",
       "\n",
       "    .dataframe tbody tr th {\n",
       "        vertical-align: top;\n",
       "    }\n",
       "\n",
       "    .dataframe thead th {\n",
       "        text-align: right;\n",
       "    }\n",
       "</style>\n",
       "<table border=\"1\" class=\"dataframe\">\n",
       "  <thead>\n",
       "    <tr style=\"text-align: right;\">\n",
       "      <th></th>\n",
       "      <th>Date</th>\n",
       "      <th>Date1</th>\n",
       "      <th>Value</th>\n",
       "      <th>Month</th>\n",
       "      <th>Weekday</th>\n",
       "      <th>Hour</th>\n",
       "    </tr>\n",
       "  </thead>\n",
       "  <tbody>\n",
       "    <tr>\n",
       "      <th>0</th>\n",
       "      <td>2023-05-15</td>\n",
       "      <td>2023-05-15 00:00:00</td>\n",
       "      <td>10</td>\n",
       "      <td>May</td>\n",
       "      <td>Mon</td>\n",
       "      <td>00</td>\n",
       "    </tr>\n",
       "    <tr>\n",
       "      <th>1</th>\n",
       "      <td>2023-05-15</td>\n",
       "      <td>2023-05-15 00:00:00</td>\n",
       "      <td>20</td>\n",
       "      <td>May</td>\n",
       "      <td>Mon</td>\n",
       "      <td>00</td>\n",
       "    </tr>\n",
       "    <tr>\n",
       "      <th>2</th>\n",
       "      <td>2023-03-25</td>\n",
       "      <td>2023-06-08 09:15:30</td>\n",
       "      <td>30</td>\n",
       "      <td>Jun</td>\n",
       "      <td>Thu</td>\n",
       "      <td>09</td>\n",
       "    </tr>\n",
       "    <tr>\n",
       "      <th>3</th>\n",
       "      <td>2023-04-10</td>\n",
       "      <td>2023-04-10 00:00:00</td>\n",
       "      <td>40</td>\n",
       "      <td>Apr</td>\n",
       "      <td>Mon</td>\n",
       "      <td>00</td>\n",
       "    </tr>\n",
       "  </tbody>\n",
       "</table>\n",
       "</div>"
      ],
      "text/plain": [
       "        Date               Date1  Value Month Weekday Hour\n",
       "0 2023-05-15 2023-05-15 00:00:00     10   May     Mon   00\n",
       "1 2023-05-15 2023-05-15 00:00:00     20   May     Mon   00\n",
       "2 2023-03-25 2023-06-08 09:15:30     30   Jun     Thu   09\n",
       "3 2023-04-10 2023-04-10 00:00:00     40   Apr     Mon   00"
      ]
     },
     "execution_count": 156,
     "metadata": {},
     "output_type": "execute_result"
    }
   ],
   "source": [
    "# 使用案例\n",
    "df = pd.DataFrame({\n",
    "    'Date': ['2023.5.15', 'May.15.2023', '03-25-2023', '04-10-2023'],\n",
    "    'Date1': ['2023.5.15', 'May.15.2023', '09:15:30', '04-10-2023'],\n",
    "    'Value': [10, 20, 30, 40]\n",
    "})\n",
    "df\n",
    "a=['Date','Date1']\n",
    "df = standlizeDate(df,a)\n",
    "df"
   ]
  },
  {
   "cell_type": "code",
   "execution_count": 159,
   "id": "232a6c86-4742-48be-a9a1-719c584bf0c1",
   "metadata": {},
   "outputs": [
    {
     "name": "stdout",
     "output_type": "stream",
     "text": [
      "4\n"
     ]
    }
   ],
   "source": [
    "print(len(df['Value']))"
   ]
  },
  {
   "cell_type": "markdown",
   "id": "3c8dd065-5d6e-4e2c-bac4-9f76b44d4a09",
   "metadata": {},
   "source": [
    "## 去掉数字数据中其他内容，保留小数点\n",
    "#### 传入dataframe数据集和需要处理的列名称"
   ]
  },
  {
   "cell_type": "code",
   "execution_count": 122,
   "id": "40f971d8-55c9-4fde-9e0b-b2855727b65d",
   "metadata": {},
   "outputs": [],
   "source": [
    "import re\n",
    "def digitDataClean(data,target):\n",
    "    for item in target:\n",
    "        data[item]=data[item].apply(lambda x: re.sub(r'[^0-9.]', '', x))\n",
    "        data[item].astype(float)\n",
    "    return data"
   ]
  },
  {
   "cell_type": "code",
   "execution_count": 138,
   "id": "81da4a16-2f43-4dc6-9e5c-ff795e84f9f0",
   "metadata": {},
   "outputs": [
    {
     "name": "stdout",
     "output_type": "stream",
     "text": [
      "    Text  Text1\n",
      "0   12.3   12.3\n",
      "1  456.5  456.5\n",
      "2  789.0  789.0\n"
     ]
    }
   ],
   "source": [
    "# 使用案例\n",
    "df = pd.DataFrame({\n",
    "    'Text': ['abc12.3def', 'xyz4,56.5pqr', 'mno789.0stu'],\n",
    "    'Text1': ['abc12.3def', 'xyz4,56.5pqr', 'mno789.0stu']\n",
    "})\n",
    "a=['Text','Text1']\n",
    "df=digitDataClean(df,a)\n",
    "print(df)"
   ]
  },
  {
   "cell_type": "markdown",
   "id": "23f5bf34-68b6-46c3-9ecc-54b892727a4a",
   "metadata": {},
   "source": [
    "## 柱状图和折线图结合的可视化\n",
    "#### 传入dataframe数据集，列名称A,列名称B，画出B随A变化的柱状图和折线图的组合，且表明了最高点和最低点\n"
   ]
  },
  {
   "cell_type": "code",
   "execution_count": 490,
   "id": "e832315e-6a20-475a-887e-4585f19d8444",
   "metadata": {},
   "outputs": [],
   "source": [
    "import matplotlib.pyplot as plt\n",
    "import seaborn as sns\n",
    "%matplotlib inline\n",
    "# 传入数据集，列名称A,列名称B，画出B随A变化的柱状图和折线图的组合，且表明了最高点和最低点\n",
    "def visualize_BarPoint(data,A,B):\n",
    "    fig, ax = plt.subplots(figsize=(13, 7))\n",
    "    data1=data.groupby(A)[B].mean().reset_index().sort_values(by=A)\n",
    "    data1=data1.sort_values(by=A, key=lambda x: pd.Categorical(x, categories=data1[A].unique(), ordered=True))\n",
    "\n",
    "    sns.barplot(data=data1, x=A, y=B, ax=ax)\n",
    "    sns.pointplot(data=data1, x=A, y=B, marker='o', ax=ax)\n",
    "    # 标注极值点\n",
    "    max_value = data1[B].max()\n",
    "    q1=data1[data1[B]==max_value].index.item()\n",
    "    min_value = data1[B].min()\n",
    "    q2=data1[data1[B]==min_value].index.item()\n",
    "    ax.annotate(f'Max: {max_value}', fontsize=15,color='purple',xy=(q1, max_value), xytext=(10, 10),\n",
    "                textcoords='offset points', arrowprops=dict(arrowstyle='->', lw=2.5))\n",
    "    ax.annotate(f'Min: {min_value}', fontsize=15, color='red', xy=(q2, min_value), xytext=(10, -20),\n",
    "                textcoords='offset points', arrowprops=dict(arrowstyle='->', lw=2.5))\n",
    "    ax.set_title(f'The relationship between {B} and {A }(the trend of {B} changing with {A})')\n",
    "    ax.set_xlabel(A)\n",
    "    ax.set_ylabel(B)\n",
    "\n",
    "    plt.show()"
   ]
  },
  {
   "cell_type": "code",
   "execution_count": 454,
   "id": "b7ddd00b-f5d4-430a-90c7-64a55beb097e",
   "metadata": {},
   "outputs": [
    {
     "data": {
      "image/png": "[encoded data removed]",
      "text/plain": [
       "<Figure size 936x504 with 1 Axes>"
      ]
     },
     "metadata": {
      "needs_background": "light"
     },
     "output_type": "display_data"
    },
    {
     "name": "stdout",
     "output_type": "stream",
     "text": [
      "  Month   Sales\n",
      "0   Apr  1500.0\n",
      "1   Feb  3200.0\n",
      "2   Jan  1000.0\n",
      "3   Jun  1300.0\n",
      "4   Mar  2900.0\n",
      "5   May   700.0\n"
     ]
    }
   ],
   "source": [
    "# 使用案例\n",
    "df = pd.DataFrame({\n",
    "    'Month': ['Jan', 'Feb', 'Mar', 'Apr', 'May', 'Jun','Jun','May'],\n",
    "    'Sales': [1000, 3200, 2900, 1500, 1100, 2000,600,300]\n",
    "})\n",
    "# df['Month']=pd.to_datetime(df['Month'],errors='coerce')\n",
    "visualize_BarPoint(df,'Month','Sales')\n",
    "da=df.groupby(df['Month'])['Sales'].mean().reset_index()\n",
    "print(da)"
   ]
  },
  {
   "cell_type": "markdown",
   "id": "66aacacc-17ae-4bed-a0c7-eec111c44836",
   "metadata": {},
   "source": [
    "## 饼图的绘制，对某一列里面的不同值在整体的占比进行分析\n",
    "#### dataframe：直接传入dataframe的数据，column：需要绘制饼图的列名称，highlight：选择max，则突出显示占比最大的，选择min则突出显示占比最小的。如果有多个值，默认选择第一个.  注意，本图最多画出占比前十的数据"
   ]
  },
  {
   "cell_type": "code",
   "execution_count": 50,
   "id": "c5febcf9-3f10-463e-acc0-6fabfaf237c3",
   "metadata": {},
   "outputs": [],
   "source": [
    "import pandas as pd\n",
    "import seaborn as sns\n",
    "import matplotlib.pyplot as plt\n",
    "\n",
    "def plot_custom_pie_chart(dataframe, column, highlight=None):\n",
    "    # 统计每个类别的数量\n",
    "    counts = dataframe[column].value_counts()\n",
    "    counts=counts.head(10)\n",
    "    # 获取类别标签和数量\n",
    "    labels = counts.index.tolist()\n",
    "    values = counts.values.tolist()\n",
    "    maxvalue=counts.values.max()\n",
    "    minvalue=counts.values.min()\n",
    "    maxlable=counts[counts.values==maxvalue].index.tolist()\n",
    "    minlable=counts[counts.values==minvalue].index.tolist()\n",
    "    # 随机选择颜色\n",
    "    colors = sns.color_palette(n_colors=len(labels))\n",
    "    # 设置突出显示的部分\n",
    "    if highlight=='max':\n",
    "        explode = [0.1 if i == maxlable[0] else 0 for i in labels]\n",
    "    if highlight=='min':\n",
    "        explode = [0.1 if i == minlable[0] else 0 for i in labels]\n",
    "    # 绘制饼图\n",
    "    plt.figure(figsize=(8, 6))\n",
    "    wedges, texts, autotexts = plt.pie(values, labels=labels, autopct='%1.1f%%', startangle=90, colors=colors, explode=explode, shadow=True)\n",
    "    # 添加注释\n",
    "    for i, autotext in enumerate(autotexts):\n",
    "        if i == labels.index(maxlable[0]) and highlight=='max':\n",
    "            autotext.set_color('white')  # 突出显示部分的注释文字颜色为白色\n",
    "            autotext.set_fontweight('bold')  # 突出显示部分的注释文字加粗\n",
    "            autotext.set_fontsize(17)  # 突出显示部分的注释文字加粗\n",
    "        if i == labels.index(minlable[0]) and highlight=='min':\n",
    "            autotext.set_color('white')  # 突出显示部分的注释文字颜色为白色\n",
    "            autotext.set_fontweight('bold')  # 突出显示部分的注释文字加粗\n",
    "            autotext.set_fontsize(17)  # 突出显示部分的注释文字加粗\n",
    "    # 添加图表标题和图例\n",
    "    plt.title(f'Pie Chart of {column}')\n",
    "    plt.legend(loc='best')\n",
    "    # 设置坐标轴为相等的圆形\n",
    "    plt.axis('equal')\n",
    "    # 显示图表\n",
    "    plt.show()\n"
   ]
  },
  {
   "cell_type": "code",
   "execution_count": 125,
   "id": "870dce43-a3d4-459c-8aba-31808277f998",
   "metadata": {},
   "outputs": [
    {
     "ename": "NameError",
     "evalue": "name 'plot_custom_pie_chart' is not defined",
     "output_type": "error",
     "traceback": [
      "\u001b[1;31m---------------------------------------------------------------------------\u001b[0m",
      "\u001b[1;31mNameError\u001b[0m                                 Traceback (most recent call last)",
      "Input \u001b[1;32mIn [125]\u001b[0m, in \u001b[0;36m<cell line: 8>\u001b[1;34m()\u001b[0m\n\u001b[0;32m      2\u001b[0m data \u001b[38;5;241m=\u001b[39m {\n\u001b[0;32m      3\u001b[0m     \u001b[38;5;124m'\u001b[39m\u001b[38;5;124mday_of_week\u001b[39m\u001b[38;5;124m'\u001b[39m: [\u001b[38;5;241m1\u001b[39m,\u001b[38;5;241m2\u001b[39m,\u001b[38;5;241m3\u001b[39m,\u001b[38;5;241m4\u001b[39m,\u001b[38;5;241m5\u001b[39m,\u001b[38;5;241m6\u001b[39m,\u001b[38;5;241m7\u001b[39m,\u001b[38;5;241m8\u001b[39m,\u001b[38;5;241m9\u001b[39m,\u001b[38;5;241m6\u001b[39m,\u001b[38;5;241m5\u001b[39m,\u001b[38;5;241m4\u001b[39m,\u001b[38;5;241m7\u001b[39m]\n\u001b[0;32m      4\u001b[0m     \n\u001b[0;32m      5\u001b[0m }\n\u001b[0;32m      6\u001b[0m df \u001b[38;5;241m=\u001b[39m pd\u001b[38;5;241m.\u001b[39mDataFrame(data)\n\u001b[1;32m----> 8\u001b[0m \u001b[43mplot_custom_pie_chart\u001b[49m(train_data, \u001b[38;5;124m'\u001b[39m\u001b[38;5;124mjob_title\u001b[39m\u001b[38;5;124m'\u001b[39m, \u001b[38;5;124m\"\u001b[39m\u001b[38;5;124mmax\u001b[39m\u001b[38;5;124m\"\u001b[39m)\n",
      "\u001b[1;31mNameError\u001b[0m: name 'plot_custom_pie_chart' is not defined"
     ]
    }
   ],
   "source": [
    "# 使用案例\n",
    "data = {\n",
    "    'day_of_week': [1,2,3,4,5,6,7,8,9,6,5,4,7]\n",
    "    \n",
    "}\n",
    "df = pd.DataFrame(data)\n",
    "\n",
    "plot_custom_pie_chart(train_data, 'job_title', \"max\")\n"
   ]
  },
  {
   "cell_type": "markdown",
   "id": "b78ab9d8-d52c-45c8-89cc-07f5ed914b0e",
   "metadata": {},
   "source": [
    "## 小提琴图的绘制，用于分析某一列数据的分布情况\n",
    "#### 传入dataframe 格式的data，画的是，y_variable 按x_variable分组过后，每个组的分布情况，如果填了‘hu’这个参数，就是画y_variable 按x_variable分组过后再按‘hu’分组后的分布情况对比，但是‘hu’如果超过两个以上的分类就不是很好了"
   ]
  },
  {
   "cell_type": "code",
   "execution_count": 92,
   "id": "48df5388-ce75-4d52-ad27-0e707a4b357e",
   "metadata": {},
   "outputs": [],
   "source": [
    "import pandas as pd\n",
    "import seaborn as sns\n",
    "import matplotlib.pyplot as plt\n",
    "\n",
    "def plot_violin(data, x_variable, y_variable,hu=None):\n",
    "    if hu is not None:\n",
    "        if data[hu].nunique()>2:\n",
    "            ax = sns.violinplot(x=x_variable, y=y_variable, hue=hu,data=data)\n",
    "        else:\n",
    "            ax = sns.violinplot(x=x_variable, y=y_variable, hue=hu,data=data,split=True)\n",
    "        ax.set_title(f\"Distribution of {y_variable} by {x_variable} and {hu}\")\n",
    "    else:\n",
    "        ax = sns.violinplot(x=x_variable, y=y_variable, hue=hu,data=data,split=True)\n",
    "        ax.set_title(f\"Distribution of {y_variable} per {x_variable}\")\n",
    "    plt.show()\n",
    "    return ax\n"
   ]
  },
  {
   "cell_type": "code",
   "execution_count": 196,
   "id": "233f0ec0-026f-40ee-803e-b45063bb90b7",
   "metadata": {},
   "outputs": [
    {
     "data": {
      "image/png": "[encoded data removed]",
      "text/plain": [
       "<Figure size 432x288 with 1 Axes>"
      ]
     },
     "metadata": {},
     "output_type": "display_data"
    },
    {
     "data": {
      "image/png": "[encoded data removed]",
      "text/plain": [
       "<Figure size 432x288 with 1 Axes>"
      ]
     },
     "metadata": {},
     "output_type": "display_data"
    },
    {
     "data": {
      "image/png": "[encoded data removed]",
      "text/plain": [
       "<Figure size 432x288 with 1 Axes>"
      ]
     },
     "metadata": {},
     "output_type": "display_data"
    },
    {
     "data": {
      "text/plain": [
       "<AxesSubplot:title={'center':'Distribution of tip by day and size'}, xlabel='day', ylabel='tip'>"
      ]
     },
     "execution_count": 196,
     "metadata": {},
     "output_type": "execute_result"
    }
   ],
   "source": [
    "# 应用举例    \n",
    "tips = sns.load_dataset(\"tips\")\n",
    "tips.head()\n",
    "plot_violin(tips,'day','tip')\n",
    "plot_violin(train_data, 'salary_in_usd','company_location')\n",
    "plot_violin(tips,'day','tip','size')\n"
   ]
  },
  {
   "cell_type": "code",
   "execution_count": 95,
   "id": "a3fe0449-a70a-4a3a-8704-75846a7e4fe5",
   "metadata": {},
   "outputs": [
    {
     "data": {
      "image/png": "[encoded data removed]",
      "text/plain": [
       "<Figure size 432x288 with 1 Axes>"
      ]
     },
     "metadata": {
      "needs_background": "light"
     },
     "output_type": "display_data"
    },
    {
     "data": {
      "text/plain": [
       "<AxesSubplot:title={'center':'Distribution of salary_in_usd per company_location'}, xlabel='company_location', ylabel='salary_in_usd'>"
      ]
     },
     "execution_count": 95,
     "metadata": {},
     "output_type": "execute_result"
    }
   ],
   "source": [
    "plot_violin(train_data, 'company_location','salary_in_usd')"
   ]
  },
  {
   "cell_type": "code",
   "execution_count": 222,
   "id": "6a031215-192e-469e-87e9-b20cac7d3267",
   "metadata": {},
   "outputs": [
    {
     "data": {
      "text/plain": [
       "count    244.000000\n",
       "mean       2.998279\n",
       "std        1.383638\n",
       "min        1.000000\n",
       "25%        2.000000\n",
       "50%        2.900000\n",
       "75%        3.562500\n",
       "max       10.000000\n",
       "Name: tip, dtype: float64"
      ]
     },
     "execution_count": 222,
     "metadata": {},
     "output_type": "execute_result"
    }
   ],
   "source": [
    "tips['tip'].describe()"
   ]
  },
  {
   "cell_type": "code",
   "execution_count": 319,
   "id": "23ad070c-cef0-4507-ba1c-33e71d9ea7b9",
   "metadata": {},
   "outputs": [
    {
     "name": "stdout",
     "output_type": "stream",
     "text": [
      "0       NaN\n",
      "1       NaN\n",
      "2       NaN\n",
      "3       NaN\n",
      "4       NaN\n",
      "       ... \n",
      "239    5.92\n",
      "240     NaN\n",
      "241     NaN\n",
      "242     NaN\n",
      "243     NaN\n",
      "Name: tip, Length: 244, dtype: float64\n",
      "<class 'pandas.core.frame.DataFrame'>\n",
      "{'tip':      total_bill   tip  sex smoker  day time  size\n",
      "0           NaN   NaN  NaN    NaN  NaN  NaN   NaN\n",
      "1           NaN   NaN  NaN    NaN  NaN  NaN   NaN\n",
      "2           NaN   NaN  NaN    NaN  NaN  NaN   NaN\n",
      "3           NaN   NaN  NaN    NaN  NaN  NaN   NaN\n",
      "4           NaN   NaN  NaN    NaN  NaN  NaN   NaN\n",
      "..          ...   ...  ...    ...  ...  ...   ...\n",
      "239         NaN  5.92  NaN    NaN  NaN  NaN   NaN\n",
      "240         NaN   NaN  NaN    NaN  NaN  NaN   NaN\n",
      "241         NaN   NaN  NaN    NaN  NaN  NaN   NaN\n",
      "242         NaN   NaN  NaN    NaN  NaN  NaN   NaN\n",
      "243         NaN   NaN  NaN    NaN  NaN  NaN   NaN\n",
      "\n",
      "[244 rows x 7 columns]}\n"
     ]
    },
    {
     "data": {
      "image/png": "[encoded data removed]",
      "text/plain": [
       "<Figure size 432x288 with 1 Axes>"
      ]
     },
     "metadata": {},
     "output_type": "display_data"
    }
   ],
   "source": [
    "def duanli_plqotbox(data,target):\n",
    "    # outliers={}\n",
    "    for item in target:\n",
    "        ax = sns.boxplot(data=data[item],showmeans=True,flierprops = {'marker':'o','markerfacecolor':'red','color':'black'})\n",
    "        ax.set_title(f\"box of {item}\")\n",
    "        temp=data[item].describe()\n",
    "        mean=temp['mean']\n",
    "        median=temp['50%']\n",
    "        q1=temp['25%']\n",
    "        q3=temp['75%']\n",
    "        iqr=q3-q1\n",
    "        lower_bound = q1 - 1.5 * iqr\n",
    "        upper_bound = q3 + 1.5 * iqr\n",
    "        ax.text(0, median, f'Median: {median}', ha='center', va='top')\n",
    "        ax.text(0, mean, f'Mean: {mean:.2f}', ha='center', va='top')\n",
    "        ax.text(0, q1, f'25%: {q1}', ha='center', va='top')\n",
    "        ax.text(0, q3, f'75%: {q3}', ha='center', va='top')\n",
    "        outlier=data[(data[target] < lower_bound) | (data[target] >upper_bound)]\n",
    "        print(outlier['tip'])\n",
    "        print(type(outlier))\n",
    "        # index=[data.index[data[target]==i][0] for i in outlier]\n",
    "        outliers={item:outlier}\n",
    "    return outliers\n",
    "\n",
    "a=duanli_plqotbox(tips,['tip'])\n",
    "print(a)"
   ]
  },
  {
   "cell_type": "code",
   "execution_count": 117,
   "id": "556d90a6-4bfd-4557-aca5-9126db096881",
   "metadata": {},
   "outputs": [],
   "source": [
    "import pandas as pd\n",
    "import seaborn as sns\n",
    "import matplotlib.pyplot as plt\n",
    "\n",
    "def duanli_plotbox(data, target):\n",
    "    target_data = data[target]\n",
    "    ax = sns.boxplot(data=target_data,showmeans=True,flierprops = {'marker':'o','markerfacecolor':'red','color':'black'})\n",
    "    ax.set_title(f'Boxplot of {target}')\n",
    "    temp=target_data.describe()\n",
    "    mean=temp['mean']\n",
    "    median=temp['50%']\n",
    "    \n",
    "    \n",
    "    q1 = target_data.quantile(0.25)\n",
    "    q3 = target_data.quantile(0.75)\n",
    "    iqr = q3 - q1\n",
    "    lower_bound = q1-3*iqr\n",
    "    upper_bound = q3+3*iqr\n",
    "    print(lower_bound,upper_bound)\n",
    "    outliers = target_data[(target_data < lower_bound) | (target_data > upper_bound)].tolist()\n",
    "    ax.text(0, median, f'Median: {median}', ha='center', va='top')\n",
    "    ax.text(0, mean, f'Mean: {mean:.2f}', ha='center', va='top')\n",
    "    ax.text(0, q1, f'25%: {q1}', ha='center', va='top')\n",
    "    ax.text(0, q3, f'75%: {q3}', ha='center', va='top')\n",
    "    std=data[target].std()\n",
    "    lower=data[target].mean()-3*std\n",
    "    upper=data[target].mean()+3*std\n",
    "    outliers1 = target_data[(target_data < lower) | (target_data > upper)].tolist()\n",
    "    print(outliers1)\n",
    "    # outliers = (data[(data[target] < lower_bound) | (data[target] > upper_bound)])\n",
    "    # outliers = (target_data[(target_data[target] < lower_bound) | (target_data[target] > upper_bound)]).values.tolist()\n",
    "    # outliers.extend(outliers)\n",
    "    \n",
    "    \n",
    "    return outliers"
   ]
  },
  {
   "cell_type": "code",
   "execution_count": 118,
   "id": "bc574cde-db04-47f5-b5f9-90d5ed8ae1b6",
   "metadata": {},
   "outputs": [
    {
     "name": "stdout",
     "output_type": "stream",
     "text": [
      "-145000.0 415000.0\n",
      "[342810, 342300, 329500, 353200, 423834, 376080, 340000, 370000, 375000, 385000, 370000, 350000, 430967, 375000, 350000, 345600, 405000, 380000, 450000, 416000, 423000, 412000]\n"
     ]
    },
    {
     "data": {
      "image/png": "[encoded data removed]",
      "text/plain": [
       "<Figure size 432x288 with 1 Axes>"
      ]
     },
     "metadata": {
      "needs_background": "light"
     },
     "output_type": "display_data"
    }
   ],
   "source": [
    "outlier_indices = duanli_plotbox(train_data, 'salary_in_usd')"
   ]
  },
  {
   "cell_type": "code",
   "execution_count": 108,
   "id": "4f431886-6817-4f20-a374-564ffbe08c46",
   "metadata": {},
   "outputs": [
    {
     "data": {
      "text/plain": [
       "[423834, 430967, 450000, 416000, 423000]"
      ]
     },
     "execution_count": 108,
     "metadata": {},
     "output_type": "execute_result"
    }
   ],
   "source": [
    "outlier_indices"
   ]
  },
  {
   "cell_type": "code",
   "execution_count": 109,
   "id": "da2de332-c7c8-4971-ad91-11d860019610",
   "metadata": {},
   "outputs": [
    {
     "name": "stdout",
     "output_type": "stream",
     "text": [
      "423834\n",
      "A\n",
      "430967\n",
      "A\n",
      "450000\n",
      "E\n",
      "416000\n"
     ]
    },
    {
     "ename": "RateLimitError",
     "evalue": "Rate limit reached for default-gpt-3.5-turbo in organization org-2qZKDDBuDkYLyb8ibAxulV3l on requests per min. Limit: 3 / min. Please try again in 20s. Contact us through our help center at help.openai.com if you continue to have issues. Please add a payment method to your account to increase your rate limit. Visit https://platform.openai.com/account/billing to add a payment method.",
     "output_type": "error",
     "traceback": [
      "\u001b[1;31m---------------------------------------------------------------------------\u001b[0m",
      "\u001b[1;31mRateLimitError\u001b[0m                            Traceback (most recent call last)",
      "Input \u001b[1;32mIn [109]\u001b[0m, in \u001b[0;36m<cell line: 1>\u001b[1;34m()\u001b[0m\n\u001b[0;32m      2\u001b[0m inp1\u001b[38;5;241m=\u001b[39m\u001b[38;5;124mf\u001b[39m\u001b[38;5;124m\"\"\"\u001b[39m\n\u001b[0;32m      3\u001b[0m \u001b[38;5;124m    Question: what is the best chioce for handing the outlier  \u001b[39m\u001b[38;5;132;01m{\u001b[39;00moutlier_indices[i]\u001b[38;5;132;01m}\u001b[39;00m\u001b[38;5;124m in the column \u001b[39m\u001b[38;5;124m\"\u001b[39m\u001b[38;5;124msalary_in_usd\u001b[39m\u001b[38;5;124m\"\u001b[39m\u001b[38;5;124m of the datase? \u001b[39m\u001b[38;5;130;01m\\\u001b[39;00m\n\u001b[0;32m      4\u001b[0m \u001b[38;5;124m    A. drop it;\u001b[39m\u001b[38;5;130;01m\\\u001b[39;00m\n\u001b[1;32m   (...)\u001b[0m\n\u001b[0;32m     12\u001b[0m \u001b[38;5;124m    For example, if the correct answer is drop it, you only can respond with \u001b[39m\u001b[38;5;124m\"\u001b[39m\u001b[38;5;124mA\u001b[39m\u001b[38;5;124m\"\u001b[39m\u001b[38;5;124m,without any other word or character.\u001b[39m\u001b[38;5;130;01m\\\u001b[39;00m\n\u001b[0;32m     13\u001b[0m \u001b[38;5;124m\u001b[39m\u001b[38;5;124m\"\"\"\u001b[39m\n\u001b[0;32m     14\u001b[0m \u001b[38;5;28mprint\u001b[39m(outlier_indices[i])\n\u001b[1;32m---> 15\u001b[0m a\u001b[38;5;241m=\u001b[39m\u001b[43mchat2\u001b[49m\u001b[43m(\u001b[49m\u001b[43minp1\u001b[49m\u001b[43m)\u001b[49m\n\u001b[0;32m     16\u001b[0m \u001b[38;5;28mprint\u001b[39m(a)\n",
      "Input \u001b[1;32mIn [72]\u001b[0m, in \u001b[0;36mchat2\u001b[1;34m(inp, role)\u001b[0m\n\u001b[0;32m      1\u001b[0m \u001b[38;5;28;01mdef\u001b[39;00m \u001b[38;5;21mchat2\u001b[39m(inp,role\u001b[38;5;241m=\u001b[39m\u001b[38;5;124m'\u001b[39m\u001b[38;5;124muser\u001b[39m\u001b[38;5;124m'\u001b[39m):\n\u001b[0;32m      2\u001b[0m     messages\u001b[38;5;241m.\u001b[39mappend({\u001b[38;5;124m'\u001b[39m\u001b[38;5;124mrole\u001b[39m\u001b[38;5;124m'\u001b[39m:role,\u001b[38;5;124m'\u001b[39m\u001b[38;5;124mcontent\u001b[39m\u001b[38;5;124m'\u001b[39m:inp})\n\u001b[1;32m----> 3\u001b[0m     response\u001b[38;5;241m=\u001b[39m\u001b[43mopenai\u001b[49m\u001b[38;5;241;43m.\u001b[39;49m\u001b[43mChatCompletion\u001b[49m\u001b[38;5;241;43m.\u001b[39;49m\u001b[43mcreate\u001b[49m\u001b[43m(\u001b[49m\n\u001b[0;32m      4\u001b[0m \u001b[43m        \u001b[49m\u001b[43mmodel\u001b[49m\u001b[38;5;241;43m=\u001b[39;49m\u001b[38;5;124;43m'\u001b[39;49m\u001b[38;5;124;43mgpt-3.5-turbo\u001b[39;49m\u001b[38;5;124;43m'\u001b[39;49m\u001b[43m,\u001b[49m\n\u001b[0;32m      5\u001b[0m \u001b[43m        \u001b[49m\u001b[43mmessages\u001b[49m\u001b[38;5;241;43m=\u001b[39;49m\u001b[43mmessages\u001b[49m\u001b[43m,\u001b[49m\n\u001b[0;32m      6\u001b[0m \u001b[43m        \u001b[49m\u001b[43mtemperature\u001b[49m\u001b[38;5;241;43m=\u001b[39;49m\u001b[38;5;241;43m0\u001b[39;49m\u001b[43m)\u001b[49m\n\u001b[0;32m      7\u001b[0m     reply_content\u001b[38;5;241m=\u001b[39mresponse\u001b[38;5;241m.\u001b[39mchoices[\u001b[38;5;241m0\u001b[39m]\u001b[38;5;241m.\u001b[39mmessage\u001b[38;5;241m.\u001b[39mcontent\n\u001b[0;32m      8\u001b[0m     messages\u001b[38;5;241m.\u001b[39mappend({\u001b[38;5;124m'\u001b[39m\u001b[38;5;124mrole\u001b[39m\u001b[38;5;124m'\u001b[39m:\u001b[38;5;124m'\u001b[39m\u001b[38;5;124massistant\u001b[39m\u001b[38;5;124m'\u001b[39m,\u001b[38;5;124m'\u001b[39m\u001b[38;5;124mcontent\u001b[39m\u001b[38;5;124m'\u001b[39m:reply_content})\n",
      "File \u001b[1;32m~\\anaconda3\\envs\\mcl\\lib\\site-packages\\openai\\api_resources\\chat_completion.py:25\u001b[0m, in \u001b[0;36mChatCompletion.create\u001b[1;34m(cls, *args, **kwargs)\u001b[0m\n\u001b[0;32m     23\u001b[0m \u001b[38;5;28;01mwhile\u001b[39;00m \u001b[38;5;28;01mTrue\u001b[39;00m:\n\u001b[0;32m     24\u001b[0m     \u001b[38;5;28;01mtry\u001b[39;00m:\n\u001b[1;32m---> 25\u001b[0m         \u001b[38;5;28;01mreturn\u001b[39;00m \u001b[38;5;28msuper\u001b[39m()\u001b[38;5;241m.\u001b[39mcreate(\u001b[38;5;241m*\u001b[39margs, \u001b[38;5;241m*\u001b[39m\u001b[38;5;241m*\u001b[39mkwargs)\n\u001b[0;32m     26\u001b[0m     \u001b[38;5;28;01mexcept\u001b[39;00m TryAgain \u001b[38;5;28;01mas\u001b[39;00m e:\n\u001b[0;32m     27\u001b[0m         \u001b[38;5;28;01mif\u001b[39;00m timeout \u001b[38;5;129;01mis\u001b[39;00m \u001b[38;5;129;01mnot\u001b[39;00m \u001b[38;5;28;01mNone\u001b[39;00m \u001b[38;5;129;01mand\u001b[39;00m time\u001b[38;5;241m.\u001b[39mtime() \u001b[38;5;241m>\u001b[39m start \u001b[38;5;241m+\u001b[39m timeout:\n",
      "File \u001b[1;32m~\\anaconda3\\envs\\mcl\\lib\\site-packages\\openai\\api_resources\\abstract\\engine_api_resource.py:153\u001b[0m, in \u001b[0;36mEngineAPIResource.create\u001b[1;34m(cls, api_key, api_base, api_type, request_id, api_version, organization, **params)\u001b[0m\n\u001b[0;32m    127\u001b[0m \u001b[38;5;129m@classmethod\u001b[39m\n\u001b[0;32m    128\u001b[0m \u001b[38;5;28;01mdef\u001b[39;00m \u001b[38;5;21mcreate\u001b[39m(\n\u001b[0;32m    129\u001b[0m     \u001b[38;5;28mcls\u001b[39m,\n\u001b[1;32m   (...)\u001b[0m\n\u001b[0;32m    136\u001b[0m     \u001b[38;5;241m*\u001b[39m\u001b[38;5;241m*\u001b[39mparams,\n\u001b[0;32m    137\u001b[0m ):\n\u001b[0;32m    138\u001b[0m     (\n\u001b[0;32m    139\u001b[0m         deployment_id,\n\u001b[0;32m    140\u001b[0m         engine,\n\u001b[1;32m   (...)\u001b[0m\n\u001b[0;32m    150\u001b[0m         api_key, api_base, api_type, api_version, organization, \u001b[38;5;241m*\u001b[39m\u001b[38;5;241m*\u001b[39mparams\n\u001b[0;32m    151\u001b[0m     )\n\u001b[1;32m--> 153\u001b[0m     response, _, api_key \u001b[38;5;241m=\u001b[39m \u001b[43mrequestor\u001b[49m\u001b[38;5;241;43m.\u001b[39;49m\u001b[43mrequest\u001b[49m\u001b[43m(\u001b[49m\n\u001b[0;32m    154\u001b[0m \u001b[43m        \u001b[49m\u001b[38;5;124;43m\"\u001b[39;49m\u001b[38;5;124;43mpost\u001b[39;49m\u001b[38;5;124;43m\"\u001b[39;49m\u001b[43m,\u001b[49m\n\u001b[0;32m    155\u001b[0m \u001b[43m        \u001b[49m\u001b[43murl\u001b[49m\u001b[43m,\u001b[49m\n\u001b[0;32m    156\u001b[0m \u001b[43m        \u001b[49m\u001b[43mparams\u001b[49m\u001b[38;5;241;43m=\u001b[39;49m\u001b[43mparams\u001b[49m\u001b[43m,\u001b[49m\n\u001b[0;32m    157\u001b[0m \u001b[43m        \u001b[49m\u001b[43mheaders\u001b[49m\u001b[38;5;241;43m=\u001b[39;49m\u001b[43mheaders\u001b[49m\u001b[43m,\u001b[49m\n\u001b[0;32m    158\u001b[0m \u001b[43m        \u001b[49m\u001b[43mstream\u001b[49m\u001b[38;5;241;43m=\u001b[39;49m\u001b[43mstream\u001b[49m\u001b[43m,\u001b[49m\n\u001b[0;32m    159\u001b[0m \u001b[43m        \u001b[49m\u001b[43mrequest_id\u001b[49m\u001b[38;5;241;43m=\u001b[39;49m\u001b[43mrequest_id\u001b[49m\u001b[43m,\u001b[49m\n\u001b[0;32m    160\u001b[0m \u001b[43m        \u001b[49m\u001b[43mrequest_timeout\u001b[49m\u001b[38;5;241;43m=\u001b[39;49m\u001b[43mrequest_timeout\u001b[49m\u001b[43m,\u001b[49m\n\u001b[0;32m    161\u001b[0m \u001b[43m    \u001b[49m\u001b[43m)\u001b[49m\n\u001b[0;32m    163\u001b[0m     \u001b[38;5;28;01mif\u001b[39;00m stream:\n\u001b[0;32m    164\u001b[0m         \u001b[38;5;66;03m# must be an iterator\u001b[39;00m\n\u001b[0;32m    165\u001b[0m         \u001b[38;5;28;01massert\u001b[39;00m \u001b[38;5;129;01mnot\u001b[39;00m \u001b[38;5;28misinstance\u001b[39m(response, OpenAIResponse)\n",
      "File \u001b[1;32m~\\anaconda3\\envs\\mcl\\lib\\site-packages\\openai\\api_requestor.py:230\u001b[0m, in \u001b[0;36mAPIRequestor.request\u001b[1;34m(self, method, url, params, headers, files, stream, request_id, request_timeout)\u001b[0m\n\u001b[0;32m    209\u001b[0m \u001b[38;5;28;01mdef\u001b[39;00m \u001b[38;5;21mrequest\u001b[39m(\n\u001b[0;32m    210\u001b[0m     \u001b[38;5;28mself\u001b[39m,\n\u001b[0;32m    211\u001b[0m     method,\n\u001b[1;32m   (...)\u001b[0m\n\u001b[0;32m    218\u001b[0m     request_timeout: Optional[Union[\u001b[38;5;28mfloat\u001b[39m, Tuple[\u001b[38;5;28mfloat\u001b[39m, \u001b[38;5;28mfloat\u001b[39m]]] \u001b[38;5;241m=\u001b[39m \u001b[38;5;28;01mNone\u001b[39;00m,\n\u001b[0;32m    219\u001b[0m ) \u001b[38;5;241m-\u001b[39m\u001b[38;5;241m>\u001b[39m Tuple[Union[OpenAIResponse, Iterator[OpenAIResponse]], \u001b[38;5;28mbool\u001b[39m, \u001b[38;5;28mstr\u001b[39m]:\n\u001b[0;32m    220\u001b[0m     result \u001b[38;5;241m=\u001b[39m \u001b[38;5;28mself\u001b[39m\u001b[38;5;241m.\u001b[39mrequest_raw(\n\u001b[0;32m    221\u001b[0m         method\u001b[38;5;241m.\u001b[39mlower(),\n\u001b[0;32m    222\u001b[0m         url,\n\u001b[1;32m   (...)\u001b[0m\n\u001b[0;32m    228\u001b[0m         request_timeout\u001b[38;5;241m=\u001b[39mrequest_timeout,\n\u001b[0;32m    229\u001b[0m     )\n\u001b[1;32m--> 230\u001b[0m     resp, got_stream \u001b[38;5;241m=\u001b[39m \u001b[38;5;28;43mself\u001b[39;49m\u001b[38;5;241;43m.\u001b[39;49m\u001b[43m_interpret_response\u001b[49m\u001b[43m(\u001b[49m\u001b[43mresult\u001b[49m\u001b[43m,\u001b[49m\u001b[43m \u001b[49m\u001b[43mstream\u001b[49m\u001b[43m)\u001b[49m\n\u001b[0;32m    231\u001b[0m     \u001b[38;5;28;01mreturn\u001b[39;00m resp, got_stream, \u001b[38;5;28mself\u001b[39m\u001b[38;5;241m.\u001b[39mapi_key\n",
      "File \u001b[1;32m~\\anaconda3\\envs\\mcl\\lib\\site-packages\\openai\\api_requestor.py:624\u001b[0m, in \u001b[0;36mAPIRequestor._interpret_response\u001b[1;34m(self, result, stream)\u001b[0m\n\u001b[0;32m    616\u001b[0m     \u001b[38;5;28;01mreturn\u001b[39;00m (\n\u001b[0;32m    617\u001b[0m         \u001b[38;5;28mself\u001b[39m\u001b[38;5;241m.\u001b[39m_interpret_response_line(\n\u001b[0;32m    618\u001b[0m             line, result\u001b[38;5;241m.\u001b[39mstatus_code, result\u001b[38;5;241m.\u001b[39mheaders, stream\u001b[38;5;241m=\u001b[39m\u001b[38;5;28;01mTrue\u001b[39;00m\n\u001b[0;32m    619\u001b[0m         )\n\u001b[0;32m    620\u001b[0m         \u001b[38;5;28;01mfor\u001b[39;00m line \u001b[38;5;129;01min\u001b[39;00m parse_stream(result\u001b[38;5;241m.\u001b[39miter_lines())\n\u001b[0;32m    621\u001b[0m     ), \u001b[38;5;28;01mTrue\u001b[39;00m\n\u001b[0;32m    622\u001b[0m \u001b[38;5;28;01melse\u001b[39;00m:\n\u001b[0;32m    623\u001b[0m     \u001b[38;5;28;01mreturn\u001b[39;00m (\n\u001b[1;32m--> 624\u001b[0m         \u001b[38;5;28;43mself\u001b[39;49m\u001b[38;5;241;43m.\u001b[39;49m\u001b[43m_interpret_response_line\u001b[49m\u001b[43m(\u001b[49m\n\u001b[0;32m    625\u001b[0m \u001b[43m            \u001b[49m\u001b[43mresult\u001b[49m\u001b[38;5;241;43m.\u001b[39;49m\u001b[43mcontent\u001b[49m\u001b[38;5;241;43m.\u001b[39;49m\u001b[43mdecode\u001b[49m\u001b[43m(\u001b[49m\u001b[38;5;124;43m\"\u001b[39;49m\u001b[38;5;124;43mutf-8\u001b[39;49m\u001b[38;5;124;43m\"\u001b[39;49m\u001b[43m)\u001b[49m\u001b[43m,\u001b[49m\n\u001b[0;32m    626\u001b[0m \u001b[43m            \u001b[49m\u001b[43mresult\u001b[49m\u001b[38;5;241;43m.\u001b[39;49m\u001b[43mstatus_code\u001b[49m\u001b[43m,\u001b[49m\n\u001b[0;32m    627\u001b[0m \u001b[43m            \u001b[49m\u001b[43mresult\u001b[49m\u001b[38;5;241;43m.\u001b[39;49m\u001b[43mheaders\u001b[49m\u001b[43m,\u001b[49m\n\u001b[0;32m    628\u001b[0m \u001b[43m            \u001b[49m\u001b[43mstream\u001b[49m\u001b[38;5;241;43m=\u001b[39;49m\u001b[38;5;28;43;01mFalse\u001b[39;49;00m\u001b[43m,\u001b[49m\n\u001b[0;32m    629\u001b[0m \u001b[43m        \u001b[49m\u001b[43m)\u001b[49m,\n\u001b[0;32m    630\u001b[0m         \u001b[38;5;28;01mFalse\u001b[39;00m,\n\u001b[0;32m    631\u001b[0m     )\n",
      "File \u001b[1;32m~\\anaconda3\\envs\\mcl\\lib\\site-packages\\openai\\api_requestor.py:687\u001b[0m, in \u001b[0;36mAPIRequestor._interpret_response_line\u001b[1;34m(self, rbody, rcode, rheaders, stream)\u001b[0m\n\u001b[0;32m    685\u001b[0m stream_error \u001b[38;5;241m=\u001b[39m stream \u001b[38;5;129;01mand\u001b[39;00m \u001b[38;5;124m\"\u001b[39m\u001b[38;5;124merror\u001b[39m\u001b[38;5;124m\"\u001b[39m \u001b[38;5;129;01min\u001b[39;00m resp\u001b[38;5;241m.\u001b[39mdata\n\u001b[0;32m    686\u001b[0m \u001b[38;5;28;01mif\u001b[39;00m stream_error \u001b[38;5;129;01mor\u001b[39;00m \u001b[38;5;129;01mnot\u001b[39;00m \u001b[38;5;241m200\u001b[39m \u001b[38;5;241m<\u001b[39m\u001b[38;5;241m=\u001b[39m rcode \u001b[38;5;241m<\u001b[39m \u001b[38;5;241m300\u001b[39m:\n\u001b[1;32m--> 687\u001b[0m     \u001b[38;5;28;01mraise\u001b[39;00m \u001b[38;5;28mself\u001b[39m\u001b[38;5;241m.\u001b[39mhandle_error_response(\n\u001b[0;32m    688\u001b[0m         rbody, rcode, resp\u001b[38;5;241m.\u001b[39mdata, rheaders, stream_error\u001b[38;5;241m=\u001b[39mstream_error\n\u001b[0;32m    689\u001b[0m     )\n\u001b[0;32m    690\u001b[0m \u001b[38;5;28;01mreturn\u001b[39;00m resp\n",
      "\u001b[1;31mRateLimitError\u001b[0m: Rate limit reached for default-gpt-3.5-turbo in organization org-2qZKDDBuDkYLyb8ibAxulV3l on requests per min. Limit: 3 / min. Please try again in 20s. Contact us through our help center at help.openai.com if you continue to have issues. Please add a payment method to your account to increase your rate limit. Visit https://platform.openai.com/account/billing to add a payment method."
     ]
    }
   ],
   "source": [
    "for i in range(len(outlier_indices)):\n",
    "    inp1=f\"\"\"\n",
    "        Question: what is the best chioce for handing the outlier  {outlier_indices[i]} in the column \"salary_in_usd\" of the datase? \\\n",
    "        A. drop it;\\\n",
    "        B. replace it with midan;\\\n",
    "        C. replace it with mean;\\\n",
    "        D. replace it with mode;\\\n",
    "        E. keep it;\\\n",
    "        \\\n",
    "        You only can choose the correct option by indicating the corresponding letter in your response,without any other words or characters.\\\n",
    "        if you can not make a right response, just response \"F\" directly，without any other word  or character.\\\n",
    "        For example, if the correct answer is drop it, you only can respond with \"A\",without any other word or character.\\\n",
    "    \"\"\"\n",
    "    print(outlier_indices[i])\n",
    "    a=chat2(inp1)\n",
    "    print(a)"
   ]
  },
  {
   "cell_type": "code",
   "execution_count": 123,
   "id": "716503c2-56ef-4740-a39c-e8eb57cebe59",
   "metadata": {},
   "outputs": [
    {
     "name": "stdout",
     "output_type": "stream",
     "text": [
      "416000\n",
      "No.\n"
     ]
    }
   ],
   "source": [
    "inp1=f\"\"\"\n",
    "        Question: check through the column \"salary_in_usd\",is it normal data in this column is negative? \\\n",
    "        response only \"yes\" or \"no\",without anyother word or character.\\\n",
    "    \"\"\"\n",
    "print(outlier_indices[i])\n",
    "a=chat2(inp1)\n",
    "print(a)"
   ]
  },
  {
   "cell_type": "code",
   "execution_count": 98,
   "id": "24487bdc-518c-46bf-9914-1cb0776c1791",
   "metadata": {},
   "outputs": [
    {
     "name": "stdout",
     "output_type": "stream",
     "text": [
      "It is possible that the column \"salary_in_usd\" is influenced by some of the other columns in the dataset. For example, the employee's work experience, job title, and company size/location could all potentially impact their salary. However, without further analysis it is difficult to determine the exact extent of these influences.\n"
     ]
    }
   ],
   "source": [
    "print(a)"
   ]
  },
  {
   "cell_type": "code",
   "execution_count": 195,
   "id": "f2803e11-4a40-4e23-a24a-16400d875320",
   "metadata": {},
   "outputs": [
    {
     "name": "stdout",
     "output_type": "stream",
     "text": [
      "Based on the given dataset, the valid numeric value range for the \"month_of_year\" column is from 1 to 12.\n"
     ]
    }
   ],
   "source": [
    "data = {\n",
    "    'month_of_year': [9,2,1,4,5,3,7,8,60]\n",
    "    \n",
    "}\n",
    "df = pd.DataFrame(data)\n",
    "introduce1=f\"\"\"\n",
    "- this Dataset contains 1 columns, each are:\\\n",
    "- month_of_year:This column refers to the month of the year.\\\n",
    "\"\"\"\n",
    "messages=[{'role':\"system\",'content':f\"\"\"you are a professional Data scientist.\\\n",
    "    any of your responses have to base on the dataset delimited by <> and the introduce delimited by briple backticks.\\\n",
    "    dataset:<{df}>\\\n",
    "    introduce:'''{introduce1}''' \\\n",
    "          \"\"\"}]\n",
    "inp1=f\"\"\"\n",
    "        check through the column \"month_of_year\",\\\n",
    "        understand the true meaning of the name of the column and determine the valid numeric value range for a given number.\\\n",
    "        \n",
    "        Question: what is the valid numeric value rangee you got from your analysis?\\\n",
    "        please provide the valid range at most two numbers,without anyother chracters.\n",
    "\"\"\"\n",
    "a=chat2(inp1)\n",
    "print(a)"
   ]
  },
  {
   "cell_type": "code",
   "execution_count": null,
   "id": "51772f65-c9dc-4417-b8b1-1efd20f715c1",
   "metadata": {},
   "outputs": [],
   "source": []
  },
  {
   "cell_type": "code",
   "execution_count": null,
   "id": "6494852f-b37b-480c-ae98-2d941433c78e",
   "metadata": {},
   "outputs": [],
   "source": []
  },
  {
   "cell_type": "code",
   "execution_count": 48,
   "id": "97892f15-170c-4328-8b32-2689c699ec81",
   "metadata": {},
   "outputs": [],
   "source": [
    "import openai\n",
    "key=''\n",
    "openai.api_key=key"
   ]
  },
  {
   "cell_type": "code",
   "execution_count": 111,
   "id": "db97828f-18da-41a2-ab2e-06e1095beba2",
   "metadata": {},
   "outputs": [],
   "source": [
    "introduce=f\"\"\"\n",
    "- Data Science Job Salaries Dataset contains 11 columns, each are:\\\n",
    "- work_year: The year the salary was paid.\\\n",
    "- experience_level: The experience level in the job during the year\\\n",
    "- employment_type: The type of employment for the role\\\n",
    "- job_title: The role worked in during the year.\\\n",
    "- salary: The total gross salary amount paid.\\\n",
    "- salary_currency: The currency of the salary paid as an ISO 4217 currency code.\\\n",
    "- salary_in_usd: The salary in USD\\\n",
    "- employee_residence: Employee's primary country of residence in during the work year as an ISO 3166 country code.\\\n",
    "- remote_ratio: The overall amount of work done remotely\\\n",
    "- company_location: The country of the employer's main office or contracting branch\\\n",
    "- company_size: The median number of people that worked for the company during the year\\\n",
    "\"\"\"\n",
    "messages=[{'role':\"system\",'content':f\"\"\"you are a professional Data scientist.\\\n",
    "    any of your responses have to base on the dataset delimited by <> and the introduce delimited by briple backticks.\\\n",
    "    dataset:<{train_data}>\\\n",
    "    introduce:'''{introduce}''' \\\n",
    "          \"\"\"}]"
   ]
  },
  {
   "cell_type": "code",
   "execution_count": 72,
   "id": "a7104d90-a4ba-4e38-9231-640d77dfe74d",
   "metadata": {},
   "outputs": [],
   "source": [
    "def chat2(inp,role='user'):\n",
    "    messages.append({'role':role,'content':inp})\n",
    "    response=openai.ChatCompletion.create(\n",
    "        model='gpt-3.5-turbo',\n",
    "        messages=messages,\n",
    "        temperature=0)\n",
    "    reply_content=response.choices[0].message.content\n",
    "    messages.append({'role':'assistant','content':reply_content})\n",
    "    return reply_content"
   ]
  },
  {
   "cell_type": "code",
   "execution_count": 51,
   "id": "de005d5e-7592-4dfe-adb2-dc5e47dc05f6",
   "metadata": {},
   "outputs": [
    {
     "data": {
      "text/html": [
       "<div>\n",
       "<style scoped>\n",
       "    .dataframe tbody tr th:only-of-type {\n",
       "        vertical-align: middle;\n",
       "    }\n",
       "\n",
       "    .dataframe tbody tr th {\n",
       "        vertical-align: top;\n",
       "    }\n",
       "\n",
       "    .dataframe thead th {\n",
       "        text-align: right;\n",
       "    }\n",
       "</style>\n",
       "<table border=\"1\" class=\"dataframe\">\n",
       "  <thead>\n",
       "    <tr style=\"text-align: right;\">\n",
       "      <th></th>\n",
       "      <th>work_year</th>\n",
       "      <th>experience_level</th>\n",
       "      <th>employment_type</th>\n",
       "      <th>job_title</th>\n",
       "      <th>salary</th>\n",
       "      <th>salary_currency</th>\n",
       "      <th>salary_in_usd</th>\n",
       "      <th>employee_residence</th>\n",
       "      <th>remote_ratio</th>\n",
       "      <th>company_location</th>\n",
       "      <th>company_size</th>\n",
       "    </tr>\n",
       "  </thead>\n",
       "  <tbody>\n",
       "    <tr>\n",
       "      <th>0</th>\n",
       "      <td>2023</td>\n",
       "      <td>SE</td>\n",
       "      <td>FT</td>\n",
       "      <td>Principal Data Scientist</td>\n",
       "      <td>80000</td>\n",
       "      <td>EUR</td>\n",
       "      <td>85847</td>\n",
       "      <td>ES</td>\n",
       "      <td>100</td>\n",
       "      <td>ES</td>\n",
       "      <td>L</td>\n",
       "    </tr>\n",
       "    <tr>\n",
       "      <th>1</th>\n",
       "      <td>2023</td>\n",
       "      <td>MI</td>\n",
       "      <td>CT</td>\n",
       "      <td>ML Engineer</td>\n",
       "      <td>30000</td>\n",
       "      <td>USD</td>\n",
       "      <td>30000</td>\n",
       "      <td>US</td>\n",
       "      <td>100</td>\n",
       "      <td>US</td>\n",
       "      <td>S</td>\n",
       "    </tr>\n",
       "    <tr>\n",
       "      <th>2</th>\n",
       "      <td>2023</td>\n",
       "      <td>MI</td>\n",
       "      <td>CT</td>\n",
       "      <td>ML Engineer</td>\n",
       "      <td>25500</td>\n",
       "      <td>USD</td>\n",
       "      <td>25500</td>\n",
       "      <td>US</td>\n",
       "      <td>100</td>\n",
       "      <td>US</td>\n",
       "      <td>S</td>\n",
       "    </tr>\n",
       "    <tr>\n",
       "      <th>3</th>\n",
       "      <td>2023</td>\n",
       "      <td>SE</td>\n",
       "      <td>FT</td>\n",
       "      <td>Data Scientist</td>\n",
       "      <td>175000</td>\n",
       "      <td>USD</td>\n",
       "      <td>175000</td>\n",
       "      <td>CA</td>\n",
       "      <td>100</td>\n",
       "      <td>CA</td>\n",
       "      <td>M</td>\n",
       "    </tr>\n",
       "    <tr>\n",
       "      <th>4</th>\n",
       "      <td>2023</td>\n",
       "      <td>SE</td>\n",
       "      <td>FT</td>\n",
       "      <td>Data Scientist</td>\n",
       "      <td>120000</td>\n",
       "      <td>USD</td>\n",
       "      <td>120000</td>\n",
       "      <td>CA</td>\n",
       "      <td>100</td>\n",
       "      <td>CA</td>\n",
       "      <td>M</td>\n",
       "    </tr>\n",
       "  </tbody>\n",
       "</table>\n",
       "</div>"
      ],
      "text/plain": [
       "   work_year experience_level employment_type                 job_title  \\\n",
       "0       2023               SE              FT  Principal Data Scientist   \n",
       "1       2023               MI              CT               ML Engineer   \n",
       "2       2023               MI              CT               ML Engineer   \n",
       "3       2023               SE              FT            Data Scientist   \n",
       "4       2023               SE              FT            Data Scientist   \n",
       "\n",
       "   salary salary_currency  salary_in_usd employee_residence  remote_ratio  \\\n",
       "0   80000             EUR          85847                 ES           100   \n",
       "1   30000             USD          30000                 US           100   \n",
       "2   25500             USD          25500                 US           100   \n",
       "3  175000             USD         175000                 CA           100   \n",
       "4  120000             USD         120000                 CA           100   \n",
       "\n",
       "  company_location company_size  \n",
       "0               ES            L  \n",
       "1               US            S  \n",
       "2               US            S  \n",
       "3               CA            M  \n",
       "4               CA            M  "
      ]
     },
     "execution_count": 51,
     "metadata": {},
     "output_type": "execute_result"
    }
   ],
   "source": [
    "train_data.head()"
   ]
  },
  {
   "cell_type": "code",
   "execution_count": 481,
   "id": "1ed44fab-d7d3-447c-a607-581ff9113968",
   "metadata": {},
   "outputs": [],
   "source": [
    "inp1=f\"\"\"\n",
    "    you need to wrok on the dataset delimited by <>,the introduce delimited by the briple backticks just for you to\\\n",
    "    understand the dataset better,\\\n",
    "    what is the best way to do visualization for the column 'job_title'?.\\\n",
    "    dataset:<{train_data}>\\\n",
    "    introduce:'''{introduce}'''\\\n",
    "\"\"\""
   ]
  },
  {
   "cell_type": "code",
   "execution_count": null,
   "id": "ed33d823-a848-46b5-88fb-96520722925f",
   "metadata": {},
   "outputs": [],
   "source": []
  },
  {
   "cell_type": "code",
   "execution_count": 482,
   "id": "7f009462-8152-4b79-908e-d22467a9608b",
   "metadata": {},
   "outputs": [],
   "source": [
    "a=chat2(inp1)"
   ]
  },
  {
   "cell_type": "code",
   "execution_count": 483,
   "id": "0ceaa109-4547-446e-91a4-449a39860ef1",
   "metadata": {},
   "outputs": [
    {
     "name": "stdout",
     "output_type": "stream",
     "text": [
      "The best way to visualize the 'job_title' column depends on the specific question you are trying to answer. Here are some possible visualization options:\n",
      "\n",
      "1. Bar chart: A bar chart can be used to show the number of occurrences of each job title in the dataset. This can be useful for comparing the popularity of different job titles.\n",
      "\n",
      "2. Word cloud: A word cloud can be used to show the frequency of different job titles in a visually appealing way. This can be useful for highlighting the most common job titles in the dataset.\n",
      "\n",
      "3. Stacked bar chart: A stacked bar chart can be used to show the distribution of different job titles across different categories, such as experience level or employment type. This can be useful for identifying patterns in the data.\n",
      "\n",
      "Here is the code to create a bar chart of the 'job_title' column:\n",
      "\n",
      "```\n",
      "import pandas as pd\n",
      "import matplotlib.pyplot as plt\n",
      "\n",
      "# Load the dataset\n",
      "df = pd.read_csv('<path_to_dataset>', delimiter=',')\n",
      "\n",
      "# Count the number of occurrences of each job title\n",
      "job_counts = df['job_title'].value_counts()\n",
      "\n",
      "# Plot a bar chart\n",
      "plt.bar(job_counts.index, job_counts)\n",
      "plt.xticks(rotation=90)\n",
      "plt.xlabel('Job Title')\n",
      "plt.ylabel('Count')\n",
      "plt.title('Number of Occurrences of Each Job Title')\n",
      "plt.show()\n",
      "```\n",
      "\n",
      "Please replace `<path_to_dataset>` with the actual path to the dataset file.\n"
     ]
    }
   ],
   "source": [
    "print(a)"
   ]
  },
  {
   "cell_type": "code",
   "execution_count": 24,
   "id": "6d1ea66e-8fa7-4071-8b8e-e60772503f1e",
   "metadata": {},
   "outputs": [
    {
     "name": "stdout",
     "output_type": "stream",
     "text": [
      "Here is a more detailed strategy for data cleaning on the given dataset:\n",
      "\n",
      "1. Check for missing values in the dataset and handle them appropriately. For example, if there are missing values in the \"Sales\" column, we can either remove those rows or impute the missing values with the mean or median of the column. If there are missing values in the \"StateHoliday\" column, we can impute them with the mode of the column.\n",
      "\n",
      "2. Check for outliers in the dataset and handle them appropriately. For example, if there are outliers in the \"Sales\" column, we can either remove those rows or replace them with the mean or median of the column.\n",
      "\n",
      "3. Check for duplicates in the dataset and remove them if necessary. We can use the \"drop_duplicates\" method to remove any duplicate rows.\n",
      "\n",
      "4. Check for inconsistent data types in the columns and convert them to the appropriate data type. For example, we can convert the \"Date\" column to a datetime data type using the \"to_datetime\" method.\n",
      "\n",
      "5. Check for any irrelevant columns and remove them if necessary. For example, if the \"Open\" column is not relevant to the analysis, we can remove it using the \"drop\" method.\n",
      "\n",
      "6. Check for any inconsistent or incorrect values in the columns and handle them appropriately. For example, if there are any incorrect values in the \"StateHoliday\" column, we can replace them with the correct values.\n",
      "\n",
      "7. Check for any inconsistencies in the date format and convert them to a consistent format. For example, if the date format is inconsistent, we can convert it to a consistent format using the \"strftime\" method.\n",
      "\n",
      "These are some of the strategies for data cleaning on the given dataset. The specific approach may vary depending on the specific requirements of the analysis.\n"
     ]
    }
   ],
   "source": [
    "print(a)"
   ]
  },
  {
   "cell_type": "code",
   "execution_count": null,
   "id": "46437754-89f0-4027-986e-a862a672a6e3",
   "metadata": {},
   "outputs": [],
   "source": []
  }
 ],
 "metadata": {
  "kernelspec": {
   "display_name": "Python 3 (ipykernel)",
   "language": "python",
   "name": "python3"
  },
  "language_info": {
   "codemirror_mode": {
    "name": "ipython",
    "version": 3
   },
   "file_extension": ".py",
   "mimetype": "text/x-python",
   "name": "python",
   "nbconvert_exporter": "python",
   "pygments_lexer": "ipython3",
   "version": "3.10.4"
  }
 },
 "nbformat": 4,
 "nbformat_minor": 5
}
