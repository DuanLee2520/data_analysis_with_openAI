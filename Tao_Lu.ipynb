{
 "cells": [
  {
   "cell_type": "code",
   "execution_count": 5,
   "id": "0f8b92bd-e855-4490-b4d8-f4cb1957a1e3",
   "metadata": {},
   "outputs": [],
   "source": [
    "import warnings\n",
    "warnings.filterwarnings(\"ignore\")\n",
    "# loading packages\n",
    "# 1 basic\n",
    "from datetime import datetime\n",
    "from datetime import timedelta\n",
    "import numpy as np\n",
    "import pandas as pd\n",
    "from pandas import Series,DataFrame"
   ]
  },
  {
   "cell_type": "markdown",
   "id": "acfef63f-20f4-4632-8d44-68cf47ad4b08",
   "metadata": {},
   "source": [
    "## 导入数据函数："
   ]
  },
  {
   "cell_type": "code",
   "execution_count": 6,
   "id": "10983fba-0940-426d-8288-b327936b2d95",
   "metadata": {},
   "outputs": [],
   "source": [
    "def DuanLi_open_file(file_name):\n",
    "    if file_name.endswith('.csv'):\n",
    "        data = pd.read_csv(file_name)\n",
    "    elif file_name.endswith('.xlsx') or file_name.endswith('.xls'):\n",
    "        data = pd.read_excel(file_name)\n",
    "    elif file_name.endswith('.json'):\n",
    "        data = pd.read_json(file_name)\n",
    "    elif file_name.endswith('.pkl'):\n",
    "        data = pd.read_pickle(file_name)\n",
    "    else:\n",
    "        raise ValueError(\"Unsupported file format. Please provide a file with .csv, .xlsx, .xls, or .json extension.\")\n",
    "    return data"
   ]
  },
  {
   "cell_type": "code",
   "execution_count": 7,
   "id": "89d8edb7-6837-4e14-a450-d6cda829b730",
   "metadata": {},
   "outputs": [],
   "source": [
    "train_data=DuanLi_open_file(\"ds_salaries.csv\")\n"
   ]
  },
  {
   "cell_type": "markdown",
   "id": "654fa80b-c2b4-4cbb-b21f-5361000f5076",
   "metadata": {},
   "source": [
    "## 初步查看数据"
   ]
  },
  {
   "cell_type": "code",
   "execution_count": 8,
   "id": "a04e81c0-ad0f-4bd5-8695-eb4bbe13f3e0",
   "metadata": {},
   "outputs": [],
   "source": [
    "# 传入数据，和数据的名字，得到数据的前五行数据，和info\n",
    "def DuanLi_check_file(data,data_name):\n",
    "    print('{:*^30}'.format('{} first 5 rows').format(data_name))\n",
    "    print(data.head(5))\n",
    "    print('{:*^30}'.format('{} info of each column').format(data_name))\n",
    "    print(data.info(),'\\n','\\n')"
   ]
  },
  {
   "cell_type": "code",
   "execution_count": 9,
   "id": "c5b05153-5a8e-4121-9866-749e35d6c02e",
   "metadata": {},
   "outputs": [
    {
     "name": "stdout",
     "output_type": "stream",
     "text": [
      "*******train_data first 5 rows********\n",
      "   work_year experience_level employment_type                 job_title  \\\n",
      "0       2023               SE              FT  Principal Data Scientist   \n",
      "1       2023               MI              CT               ML Engineer   \n",
      "2       2023               MI              CT               ML Engineer   \n",
      "3       2023               SE              FT            Data Scientist   \n",
      "4       2023               SE              FT            Data Scientist   \n",
      "\n",
      "   salary salary_currency  salary_in_usd employee_residence  remote_ratio  \\\n",
      "0   80000             EUR          85847                 ES           100   \n",
      "1   30000             USD          30000                 US           100   \n",
      "2   25500             USD          25500                 US           100   \n",
      "3  175000             USD         175000                 CA           100   \n",
      "4  120000             USD         120000                 CA           100   \n",
      "\n",
      "  company_location company_size  \n",
      "0               ES            L  \n",
      "1               US            S  \n",
      "2               US            S  \n",
      "3               CA            M  \n",
      "4               CA            M  \n",
      "****train_data info of each column****\n",
      "<class 'pandas.core.frame.DataFrame'>\n",
      "RangeIndex: 3755 entries, 0 to 3754\n",
      "Data columns (total 11 columns):\n",
      " #   Column              Non-Null Count  Dtype \n",
      "---  ------              --------------  ----- \n",
      " 0   work_year           3755 non-null   int64 \n",
      " 1   experience_level    3755 non-null   object\n",
      " 2   employment_type     3755 non-null   object\n",
      " 3   job_title           3755 non-null   object\n",
      " 4   salary              3755 non-null   int64 \n",
      " 5   salary_currency     3755 non-null   object\n",
      " 6   salary_in_usd       3755 non-null   int64 \n",
      " 7   employee_residence  3755 non-null   object\n",
      " 8   remote_ratio        3755 non-null   int64 \n",
      " 9   company_location    3755 non-null   object\n",
      " 10  company_size        3755 non-null   object\n",
      "dtypes: int64(4), object(7)\n",
      "memory usage: 322.8+ KB\n",
      "None \n",
      " \n",
      "\n"
     ]
    }
   ],
   "source": [
    "DuanLi_check_file(train_data,'train_data')"
   ]
  },
  {
   "cell_type": "markdown",
   "id": "e09e4c58-e3f0-4981-97f2-32ab0c24f011",
   "metadata": {
    "tags": []
   },
   "source": [
    "## one-hot编码，就是转化为0，1格式"
   ]
  },
  {
   "cell_type": "markdown",
   "id": "86c4580e-8995-4550-8ab3-ed598ffbdcd7",
   "metadata": {},
   "source": [
    "### 第一种：对数据某一列进行0-1化，要求这列的每一行都只有单个的值"
   ]
  },
  {
   "cell_type": "code",
   "execution_count": 10,
   "id": "38393d26-369d-472a-aaa7-5cd5c9b10647",
   "metadata": {},
   "outputs": [],
   "source": [
    "# 传入数据集dataframe，和需要编码吗的列名称【列1，列2····】，返回0 1 编码，按照每一列的数据，\n",
    "# 内部逻辑就是对每一列进行0 1 编码,比如：传入的一列全是数字，最大值是7，那么编码结果就是生成0~7列，原来是3的就在第三列显示1，原来是5的就在第5列显示1\n",
    "def DuanLi_convert_to_twovalues(data,columns):\n",
    "    connect_column=[]\n",
    "    for item in columns:\n",
    "        df_tem=pd.get_dummies(data[item],prefix=item)\n",
    "        connect_column.append(df_tem)\n",
    "    data_new=pd.concat(connect_column,axis=1)\n",
    "    return data_new"
   ]
  },
  {
   "cell_type": "markdown",
   "id": "42966f68-0e73-48e1-9a93-c09be4c4f41a",
   "metadata": {},
   "source": [
    "### 第二种：对数据某一列进行0-1化，要求这列的每一行都有多个值，且用‘，’隔开的，如果是用其他隔开的，需要修改函数内部join（）和get_dummies()"
   ]
  },
  {
   "cell_type": "code",
   "execution_count": 11,
   "id": "6e868d06-cc70-4523-ab14-4c80f3473fdf",
   "metadata": {},
   "outputs": [],
   "source": [
    "# 传入dataframe数据集，和需要0 1 化的列名称，每一列需要是一个str的list格式比如【】\n",
    "def DuanLi_one_hot(data,columns):\n",
    "    connect_column=[]\n",
    "    for item in columns:\n",
    "        temp=data[item].str.join(',')\n",
    "        df_tem=temp.str.get_dummies(',')\n",
    "        connect_column.append(df_tem)\n",
    "    data_new=pd.concat(connect_column,axis=1)\n",
    "    return data_new"
   ]
  },
  {
   "cell_type": "markdown",
   "id": "def77e49-b5f7-413f-8bee-1cb8bd2324a6",
   "metadata": {},
   "source": [
    "##### 第二种举例："
   ]
  },
  {
   "cell_type": "code",
   "execution_count": 12,
   "id": "807a4069-b52d-419c-b816-5bf17ec6b51e",
   "metadata": {},
   "outputs": [],
   "source": [
    "retail_1=pd.DataFrame({'id':[1,2,3],'basket':[['b','d','p','c','a'],\n",
    "                                ['b','f','p'],\n",
    "                                ['m','q','p','e','a'] ]\n",
    "         })"
   ]
  },
  {
   "cell_type": "code",
   "execution_count": 13,
   "id": "05efdb7f-5e5e-47a7-8ba3-f29d01bfba22",
   "metadata": {},
   "outputs": [
    {
     "data": {
      "text/html": [
       "<div>\n",
       "<style scoped>\n",
       "    .dataframe tbody tr th:only-of-type {\n",
       "        vertical-align: middle;\n",
       "    }\n",
       "\n",
       "    .dataframe tbody tr th {\n",
       "        vertical-align: top;\n",
       "    }\n",
       "\n",
       "    .dataframe thead th {\n",
       "        text-align: right;\n",
       "    }\n",
       "</style>\n",
       "<table border=\"1\" class=\"dataframe\">\n",
       "  <thead>\n",
       "    <tr style=\"text-align: right;\">\n",
       "      <th></th>\n",
       "      <th>a</th>\n",
       "      <th>b</th>\n",
       "      <th>c</th>\n",
       "      <th>d</th>\n",
       "      <th>e</th>\n",
       "      <th>f</th>\n",
       "      <th>m</th>\n",
       "      <th>p</th>\n",
       "      <th>q</th>\n",
       "    </tr>\n",
       "  </thead>\n",
       "  <tbody>\n",
       "    <tr>\n",
       "      <th>0</th>\n",
       "      <td>1</td>\n",
       "      <td>1</td>\n",
       "      <td>1</td>\n",
       "      <td>1</td>\n",
       "      <td>0</td>\n",
       "      <td>0</td>\n",
       "      <td>0</td>\n",
       "      <td>1</td>\n",
       "      <td>0</td>\n",
       "    </tr>\n",
       "    <tr>\n",
       "      <th>1</th>\n",
       "      <td>0</td>\n",
       "      <td>1</td>\n",
       "      <td>0</td>\n",
       "      <td>0</td>\n",
       "      <td>0</td>\n",
       "      <td>1</td>\n",
       "      <td>0</td>\n",
       "      <td>1</td>\n",
       "      <td>0</td>\n",
       "    </tr>\n",
       "    <tr>\n",
       "      <th>2</th>\n",
       "      <td>1</td>\n",
       "      <td>0</td>\n",
       "      <td>0</td>\n",
       "      <td>0</td>\n",
       "      <td>1</td>\n",
       "      <td>0</td>\n",
       "      <td>1</td>\n",
       "      <td>1</td>\n",
       "      <td>1</td>\n",
       "    </tr>\n",
       "  </tbody>\n",
       "</table>\n",
       "</div>"
      ],
      "text/plain": [
       "   a  b  c  d  e  f  m  p  q\n",
       "0  1  1  1  1  0  0  0  1  0\n",
       "1  0  1  0  0  0  1  0  1  0\n",
       "2  1  0  0  0  1  0  1  1  1"
      ]
     },
     "execution_count": 13,
     "metadata": {},
     "output_type": "execute_result"
    }
   ],
   "source": [
    "a=DuanLi_one_hot(retail_1,['basket'])\n",
    "a"
   ]
  },
  {
   "cell_type": "markdown",
   "id": "32ebd798-53b5-421b-ac56-18646ef35849",
   "metadata": {},
   "source": [
    "## 关联规则分析\n",
    "###  需要传入的是经过one_hot处理过的数据，会自动分析打印这些项的关联规则分析结果\n",
    "\n",
    "###### 分析指标含义：\n",
    "###### {A} -> {B}，提升度 =2.这表示当 A 出现时，B 的出现概率是 A 不出现时的 2 倍。\n",
    "###### {A} -> {B}，置信度 = 0.6.这表示当 A 出现时，B 同时出现的概率为 0.6 或 60%。\n",
    "###### {A} -> {B}，确信度的取值范围为 [0, +∞].确信度为0表示前项和后项之间没有关联性，确信度越接近+∞，表示后项的依赖程度越强，。"
   ]
  },
  {
   "cell_type": "code",
   "execution_count": 15,
   "id": "abd48d44-0294-4826-9e2e-db453f441f61",
   "metadata": {},
   "outputs": [],
   "source": [
    "from mlxtend.frequent_patterns import apriori\n",
    "from mlxtend.frequent_patterns import association_rules \n",
    "def Duan_Li_association_rule(data):\n",
    "    frequent_itemsets = apriori(data, min_support=0.5, use_colnames=True)\n",
    "    for item in [[\"lift\",1.1],[\"confidence\",0.7]]:\n",
    "        rules = association_rules(frequent_itemsets, metric=item[0], min_threshold=item[1])\n",
    "        print('{:*^30}'.format('{} ordering').format(item[0]))\n",
    "        n=len(rules)\n",
    "        for i in range(n):\n",
    "            print(f\"{i} item in {n} \")\n",
    "            A=rules.iloc[i][\"antecedents\"]\n",
    "            B=rules.iloc[i][\"consequents\"]\n",
    "            C=rules.iloc[i][\"lift\"]\n",
    "            D=rules.iloc[i][\"confidence\"]\n",
    "            E=rules.iloc[i][\"conviction\"]\n",
    "            print(f\"lift = {C} ,  When {A} occurs, {B} is {C} times more likely to be present than when {A} is absent \")\n",
    "            print(f\"confidence ={D},  When {A} occurs, the probability that {B} also occurs is {D} \")\n",
    "            print(f\"conviction = {E}\")\n",
    "            if rules.iloc[i][\"conviction\"]== 'inf':\n",
    "                print(f\"The occurrence of the {B} depends almost entirely on {A}\")\n",
    "            if rules.iloc[i][\"conviction\"]== 0:\n",
    "                print(f\"The occurrence of the {B}  has nothing to do with {A}\")\n"
   ]
  },
  {
   "cell_type": "code",
   "execution_count": 106,
   "id": "7279b348-2de6-46f4-9285-e51ec9882985",
   "metadata": {},
   "outputs": [
    {
     "name": "stdout",
     "output_type": "stream",
     "text": [
      "*********lift ordering**********\n",
      "*********confidence ordering**********\n",
      "0 item in 2 \n",
      "lift = 1.0 ,  When frozenset({'a'}) occurs, frozenset({'p'}) is 1.0 times more likely to be present than when frozenset({'a'}) is absent \n",
      "confidence =1.0,  When frozenset({'a'}) occurs, the probability that frozenset({'p'}) also occurs is 1.0 \n",
      "conviction = inf\n",
      "1 item in 2 \n",
      "lift = 1.0 ,  When frozenset({'b'}) occurs, frozenset({'p'}) is 1.0 times more likely to be present than when frozenset({'b'}) is absent \n",
      "confidence =1.0,  When frozenset({'b'}) occurs, the probability that frozenset({'p'}) also occurs is 1.0 \n",
      "conviction = inf\n"
     ]
    }
   ],
   "source": [
    "Duan_Li_association_rule(a)"
   ]
  },
  {
   "cell_type": "markdown",
   "id": "483175a4-5b3a-46cc-b9f4-a20ed2059489",
   "metadata": {},
   "source": []
  },
  {
   "cell_type": "markdown",
   "id": "f83a64e8-f1c3-4e0f-98ce-5015b3667578",
   "metadata": {},
   "source": [
    "## 把非标准的日期格式转换为标准的日期格式（年-月-日 时：分：秒）\n",
    "### 同时提取其中的月和星期几新加到数据列中，根据需求修改"
   ]
  },
  {
   "cell_type": "code",
   "execution_count": 16,
   "id": "a489ec58-f0ae-474e-be54-e74fbfda06c5",
   "metadata": {},
   "outputs": [],
   "source": [
    "# data:dataframe 的数据集；  target：需要处理的列名称，可以是1列，也可以是多列\n",
    "def Duan_ListandlizeDate(data,target):\n",
    "    for item in target:\n",
    "        data[item]=pd.to_datetime(data[item],errors='coerce')\n",
    "        data['Month']=data[item].dt.strftime('%b')\n",
    "        data['Weekday'] = data[item].dt.strftime('%a')\n",
    "        data['Hour'] = data[item].dt.strftime('%H')  #提取小时\n",
    "    return data"
   ]
  },
  {
   "cell_type": "code",
   "execution_count": 156,
   "id": "be01508f-b125-44ba-ac93-d5d71be06e89",
   "metadata": {},
   "outputs": [
    {
     "data": {
      "text/html": [
       "<div>\n",
       "<style scoped>\n",
       "    .dataframe tbody tr th:only-of-type {\n",
       "        vertical-align: middle;\n",
       "    }\n",
       "\n",
       "    .dataframe tbody tr th {\n",
       "        vertical-align: top;\n",
       "    }\n",
       "\n",
       "    .dataframe thead th {\n",
       "        text-align: right;\n",
       "    }\n",
       "</style>\n",
       "<table border=\"1\" class=\"dataframe\">\n",
       "  <thead>\n",
       "    <tr style=\"text-align: right;\">\n",
       "      <th></th>\n",
       "      <th>Date</th>\n",
       "      <th>Date1</th>\n",
       "      <th>Value</th>\n",
       "      <th>Month</th>\n",
       "      <th>Weekday</th>\n",
       "      <th>Hour</th>\n",
       "    </tr>\n",
       "  </thead>\n",
       "  <tbody>\n",
       "    <tr>\n",
       "      <th>0</th>\n",
       "      <td>2023-05-15</td>\n",
       "      <td>2023-05-15 00:00:00</td>\n",
       "      <td>10</td>\n",
       "      <td>May</td>\n",
       "      <td>Mon</td>\n",
       "      <td>00</td>\n",
       "    </tr>\n",
       "    <tr>\n",
       "      <th>1</th>\n",
       "      <td>2023-05-15</td>\n",
       "      <td>2023-05-15 00:00:00</td>\n",
       "      <td>20</td>\n",
       "      <td>May</td>\n",
       "      <td>Mon</td>\n",
       "      <td>00</td>\n",
       "    </tr>\n",
       "    <tr>\n",
       "      <th>2</th>\n",
       "      <td>2023-03-25</td>\n",
       "      <td>2023-06-08 09:15:30</td>\n",
       "      <td>30</td>\n",
       "      <td>Jun</td>\n",
       "      <td>Thu</td>\n",
       "      <td>09</td>\n",
       "    </tr>\n",
       "    <tr>\n",
       "      <th>3</th>\n",
       "      <td>2023-04-10</td>\n",
       "      <td>2023-04-10 00:00:00</td>\n",
       "      <td>40</td>\n",
       "      <td>Apr</td>\n",
       "      <td>Mon</td>\n",
       "      <td>00</td>\n",
       "    </tr>\n",
       "  </tbody>\n",
       "</table>\n",
       "</div>"
      ],
      "text/plain": [
       "        Date               Date1  Value Month Weekday Hour\n",
       "0 2023-05-15 2023-05-15 00:00:00     10   May     Mon   00\n",
       "1 2023-05-15 2023-05-15 00:00:00     20   May     Mon   00\n",
       "2 2023-03-25 2023-06-08 09:15:30     30   Jun     Thu   09\n",
       "3 2023-04-10 2023-04-10 00:00:00     40   Apr     Mon   00"
      ]
     },
     "execution_count": 156,
     "metadata": {},
     "output_type": "execute_result"
    }
   ],
   "source": [
    "# 使用案例\n",
    "df = pd.DataFrame({\n",
    "    'Date': ['2023.5.15', 'May.15.2023', '03-25-2023', '04-10-2023'],\n",
    "    'Date1': ['2023.5.15', 'May.15.2023', '09:15:30', '04-10-2023'],\n",
    "    'Value': [10, 20, 30, 40]\n",
    "})\n",
    "df\n",
    "a=['Date','Date1']\n",
    "df = Duan_ListandlizeDate(df,a)\n",
    "df"
   ]
  },
  {
   "cell_type": "code",
   "execution_count": 159,
   "id": "232a6c86-4742-48be-a9a1-719c584bf0c1",
   "metadata": {},
   "outputs": [
    {
     "name": "stdout",
     "output_type": "stream",
     "text": [
      "4\n"
     ]
    }
   ],
   "source": [
    "print(len(df['Value']))"
   ]
  },
  {
   "cell_type": "markdown",
   "id": "3c8dd065-5d6e-4e2c-bac4-9f76b44d4a09",
   "metadata": {},
   "source": [
    "## 去掉数字数据中其他内容，保留小数点\n",
    "#### 传入dataframe数据集和需要处理的列名称"
   ]
  },
  {
   "cell_type": "code",
   "execution_count": 17,
   "id": "40f971d8-55c9-4fde-9e0b-b2855727b65d",
   "metadata": {},
   "outputs": [],
   "source": [
    "import re\n",
    "def Duan_Li_cleaning_digit_data(data,target):\n",
    "    for item in target:\n",
    "        data[item]=data[item].apply(lambda x: re.sub(r'[^0-9.]', '', x))\n",
    "        data[item].astype(float)\n",
    "    return data"
   ]
  },
  {
   "cell_type": "code",
   "execution_count": 18,
   "id": "81da4a16-2f43-4dc6-9e5c-ff795e84f9f0",
   "metadata": {},
   "outputs": [
    {
     "name": "stdout",
     "output_type": "stream",
     "text": [
      "    Text  Text1\n",
      "0   12.3   12.3\n",
      "1  456.5  456.5\n",
      "2  789.0  789.0\n"
     ]
    }
   ],
   "source": [
    "# 使用案例\n",
    "df = pd.DataFrame({\n",
    "    'Text': ['abc12.3def', 'xyz4,56.5pqr', 'mno789.0stu'],\n",
    "    'Text1': ['abc12.3def', 'xyz4,56.5pqr', 'mno789.0stu']\n",
    "})\n",
    "a=['Text','Text1']\n",
    "df=Duan_Li_cleaning_digit_data(df,a)\n",
    "print(df)"
   ]
  },
  {
   "cell_type": "markdown",
   "id": "23f5bf34-68b6-46c3-9ecc-54b892727a4a",
   "metadata": {},
   "source": [
    "## 柱状图和折线图结合的可视化\n",
    "#### 传入dataframe数据集，列名称A,列名称B，画出B随A变化的柱状图和折线图的组合，且表明了最高点和最低点\n"
   ]
  },
  {
   "cell_type": "code",
   "execution_count": 20,
   "id": "e832315e-6a20-475a-887e-4585f19d8444",
   "metadata": {},
   "outputs": [],
   "source": [
    "import matplotlib.pyplot as plt\n",
    "import seaborn as sns\n",
    "%matplotlib inline\n",
    "# 传入数据集，列名称A,列名称B，画出B随A变化的柱状图和折线图的组合，且表明了最高点和最低点\n",
    "def Duan_Li_visualize_BarPoint(data,A,B):\n",
    "    fig, ax = plt.subplots(figsize=(13, 7))\n",
    "    data1=data.groupby(A)[B].mean().reset_index().sort_values(by=A)\n",
    "    data1=data1.sort_values(by=A, key=lambda x: pd.Categorical(x, categories=data1[A].unique(), ordered=True))\n",
    "\n",
    "    sns.barplot(data=data1, x=A, y=B, ax=ax)\n",
    "    sns.pointplot(data=data1, x=A, y=B, marker='o', ax=ax)\n",
    "    # 标注极值点\n",
    "    max_value = data1[B].max()\n",
    "    q1=data1[data1[B]==max_value].index.item()\n",
    "    min_value = data1[B].min()\n",
    "    q2=data1[data1[B]==min_value].index.item()\n",
    "    ax.annotate(f'Max: {max_value}', fontsize=15,color='purple',xy=(q1, max_value), xytext=(10, 10),\n",
    "                textcoords='offset points', arrowprops=dict(arrowstyle='->', lw=2.5))\n",
    "    ax.annotate(f'Min: {min_value}', fontsize=15, color='red', xy=(q2, min_value), xytext=(10, -20),\n",
    "                textcoords='offset points', arrowprops=dict(arrowstyle='->', lw=2.5))\n",
    "    ax.set_title(f'The relationship between {B} and {A }(the trend of {B} changing with {A})')\n",
    "    ax.set_xlabel(A)\n",
    "    ax.set_ylabel(B)\n",
    "\n",
    "    plt.show()"
   ]
  },
  {
   "cell_type": "code",
   "execution_count": 21,
   "id": "b7ddd00b-f5d4-430a-90c7-64a55beb097e",
   "metadata": {},
   "outputs": [
    {
     "data": {
      "image/png": "[encoded data removed]",
      "text/plain": [
       "<Figure size 936x504 with 1 Axes>"
      ]
     },
     "metadata": {
      "needs_background": "light"
     },
     "output_type": "display_data"
    },
    {
     "name": "stdout",
     "output_type": "stream",
     "text": [
      "  Month   Sales\n",
      "0   Apr  1500.0\n",
      "1   Feb  3200.0\n",
      "2   Jan  1000.0\n",
      "3   Jun  1300.0\n",
      "4   Mar  2900.0\n",
      "5   May   700.0\n"
     ]
    }
   ],
   "source": [
    "# 使用案例\n",
    "df = pd.DataFrame({\n",
    "    'Month': ['Jan', 'Feb', 'Mar', 'Apr', 'May', 'Jun','Jun','May'],\n",
    "    'Sales': [1000, 3200, 2900, 1500, 1100, 2000,600,300]\n",
    "})\n",
    "# df['Month']=pd.to_datetime(df['Month'],errors='coerce')\n",
    "Duan_Li_visualize_BarPoint(df,'Month','Sales')\n",
    "da=df.groupby(df['Month'])['Sales'].mean().reset_index()\n",
    "print(da)"
   ]
  },
  {
   "cell_type": "markdown",
   "id": "66aacacc-17ae-4bed-a0c7-eec111c44836",
   "metadata": {},
   "source": [
    "## 饼图的绘制，对某一列里面的不同值在整体的占比进行分析\n",
    "#### dataframe：直接传入dataframe的数据，column：需要绘制饼图的列名称，highlight：选择max，则突出显示占比最大的，选择min则突出显示占比最小的。如果有多个值，默认选择第一个.  注意，本图最多画出占比前十的数据"
   ]
  },
  {
   "cell_type": "code",
   "execution_count": 22,
   "id": "c5febcf9-3f10-463e-acc0-6fabfaf237c3",
   "metadata": {},
   "outputs": [],
   "source": [
    "import pandas as pd\n",
    "import seaborn as sns\n",
    "import matplotlib.pyplot as plt\n",
    "\n",
    "def Duan_Li_plot_pie_chart(dataframe, column, highlight=None):\n",
    "    # 统计每个类别的数量\n",
    "    counts = dataframe[column].value_counts()\n",
    "    counts=counts.head(10)\n",
    "    # 获取类别标签和数量\n",
    "    labels = counts.index.tolist()\n",
    "    values = counts.values.tolist()\n",
    "    maxvalue=counts.values.max()\n",
    "    minvalue=counts.values.min()\n",
    "    maxlable=counts[counts.values==maxvalue].index.tolist()\n",
    "    minlable=counts[counts.values==minvalue].index.tolist()\n",
    "    # 随机选择颜色\n",
    "    colors = sns.color_palette(n_colors=len(labels))\n",
    "    # 设置突出显示的部分\n",
    "    if highlight=='max':\n",
    "        explode = [0.1 if i == maxlable[0] else 0 for i in labels]\n",
    "    if highlight=='min':\n",
    "        explode = [0.1 if i == minlable[0] else 0 for i in labels]\n",
    "    # 绘制饼图\n",
    "    plt.figure(figsize=(8, 6))\n",
    "    wedges, texts, autotexts = plt.pie(values, labels=labels, autopct='%1.1f%%', startangle=90, colors=colors, explode=explode, shadow=True)\n",
    "    # 添加注释\n",
    "    for i, autotext in enumerate(autotexts):\n",
    "        if i == labels.index(maxlable[0]) and highlight=='max':\n",
    "            autotext.set_color('white')  # 突出显示部分的注释文字颜色为白色\n",
    "            autotext.set_fontweight('bold')  # 突出显示部分的注释文字加粗\n",
    "            autotext.set_fontsize(17)  # 突出显示部分的注释文字加粗\n",
    "        if i == labels.index(minlable[0]) and highlight=='min':\n",
    "            autotext.set_color('white')  # 突出显示部分的注释文字颜色为白色\n",
    "            autotext.set_fontweight('bold')  # 突出显示部分的注释文字加粗\n",
    "            autotext.set_fontsize(17)  # 突出显示部分的注释文字加粗\n",
    "    # 添加图表标题和图例\n",
    "    plt.title(f'Pie Chart of {column}')\n",
    "    plt.legend(loc='best')\n",
    "    # 设置坐标轴为相等的圆形\n",
    "    plt.axis('equal')\n",
    "    # 显示图表\n",
    "    plt.show()\n"
   ]
  },
  {
   "cell_type": "code",
   "execution_count": 23,
   "id": "870dce43-a3d4-459c-8aba-31808277f998",
   "metadata": {},
   "outputs": [
    {
     "data": {
      "image/png": "[encoded data removed]",
      "text/plain": [
       "<Figure size 576x432 with 1 Axes>"
      ]
     },
     "metadata": {},
     "output_type": "display_data"
    }
   ],
   "source": [
    "# 使用案例\n",
    "data = {\n",
    "    'day_of_week': [1,2,3,4,5,6,7,8,9,6,5,4,7]\n",
    "    \n",
    "}\n",
    "df = pd.DataFrame(data)\n",
    "\n",
    "Duan_Li_plot_pie_chart(train_data, 'job_title', \"max\")\n"
   ]
  },
  {
   "cell_type": "markdown",
   "id": "b78ab9d8-d52c-45c8-89cc-07f5ed914b0e",
   "metadata": {},
   "source": [
    "## 小提琴图的绘制，用于分析某一列数据的分布情况\n",
    "#### 传入dataframe 格式的data，画的是，y_variable 按x_variable分组过后，每个组的分布情况，如果填了‘hu’这个参数，就是画y_variable 按x_variable分组过后再按‘hu’分组后的分布情况对比，但是‘hu’如果超过两个以上的分类就不是很好了"
   ]
  },
  {
   "cell_type": "code",
   "execution_count": 24,
   "id": "48df5388-ce75-4d52-ad27-0e707a4b357e",
   "metadata": {},
   "outputs": [],
   "source": [
    "import pandas as pd\n",
    "import seaborn as sns\n",
    "import matplotlib.pyplot as plt\n",
    "\n",
    "def LD_plot_violin(data, x_variable, y_variable,hu=None):\n",
    "    if hu is not None:\n",
    "        if data[hu].nunique()>2:\n",
    "            ax = sns.violinplot(x=x_variable, y=y_variable, hue=hu,data=data)\n",
    "        else:\n",
    "            ax = sns.violinplot(x=x_variable, y=y_variable, hue=hu,data=data,split=True)\n",
    "        ax.set_title(f\"Distribution of {y_variable} by {x_variable} and {hu}\")\n",
    "    else:\n",
    "        ax = sns.violinplot(x=x_variable, y=y_variable, hue=hu,data=data,split=True)\n",
    "        ax.set_title(f\"Distribution of {y_variable} per {x_variable}\")\n",
    "    plt.show()\n",
    "    return ax\n"
   ]
  },
  {
   "cell_type": "code",
   "execution_count": 245,
   "id": "233f0ec0-026f-40ee-803e-b45063bb90b7",
   "metadata": {},
   "outputs": [
    {
     "data": {
      "image/png": "[encoded data removed]",
      "text/plain": [
       "<Figure size 432x288 with 1 Axes>"
      ]
     },
     "metadata": {
      "needs_background": "light"
     },
     "output_type": "display_data"
    },
    {
     "data": {
      "image/png": "[encoded data removed]",
      "text/plain": [
       "<Figure size 432x288 with 1 Axes>"
      ]
     },
     "metadata": {
      "needs_background": "light"
     },
     "output_type": "display_data"
    },
    {
     "data": {
      "image/png": "[encoded data removed]",
      "text/plain": [
       "<Figure size 432x288 with 1 Axes>"
      ]
     },
     "metadata": {
      "needs_background": "light"
     },
     "output_type": "display_data"
    },
    {
     "data": {
      "text/plain": [
       "<AxesSubplot:title={'center':'Distribution of tip by day and size'}, xlabel='day', ylabel='tip'>"
      ]
     },
     "execution_count": 245,
     "metadata": {},
     "output_type": "execute_result"
    }
   ],
   "source": [
    "# 应用举例    \n",
    "tips = sns.load_dataset(\"tips\")\n",
    "tips.head()\n",
    "LD_plot_violin(tips,'day','tip')\n",
    "LD_plot_violin(train_data, 'salary_in_usd','company_location')\n",
    "LD_plot_violin(tips,'day','tip','size')\n"
   ]
  },
  {
   "cell_type": "code",
   "execution_count": 95,
   "id": "a3fe0449-a70a-4a3a-8704-75846a7e4fe5",
   "metadata": {},
   "outputs": [
    {
     "data": {
      "image/png": "[encoded data removed]",
      "text/plain": [
       "<Figure size 432x288 with 1 Axes>"
      ]
     },
     "metadata": {
      "needs_background": "light"
     },
     "output_type": "display_data"
    },
    {
     "data": {
      "text/plain": [
       "<AxesSubplot:title={'center':'Distribution of salary_in_usd per company_location'}, xlabel='company_location', ylabel='salary_in_usd'>"
      ]
     },
     "execution_count": 95,
     "metadata": {},
     "output_type": "execute_result"
    }
   ],
   "source": [
    "plot_violin(train_data, 'company_location','salary_in_usd')"
   ]
  },
  {
   "cell_type": "code",
   "execution_count": 222,
   "id": "6a031215-192e-469e-87e9-b20cac7d3267",
   "metadata": {},
   "outputs": [
    {
     "data": {
      "text/plain": [
       "count    244.000000\n",
       "mean       2.998279\n",
       "std        1.383638\n",
       "min        1.000000\n",
       "25%        2.000000\n",
       "50%        2.900000\n",
       "75%        3.562500\n",
       "max       10.000000\n",
       "Name: tip, dtype: float64"
      ]
     },
     "execution_count": 222,
     "metadata": {},
     "output_type": "execute_result"
    }
   ],
   "source": [
    "tips['tip'].describe()"
   ]
  },
  {
   "cell_type": "code",
   "execution_count": 246,
   "id": "23ad070c-cef0-4507-ba1c-33e71d9ea7b9",
   "metadata": {},
   "outputs": [
    {
     "data": {
      "image/png": "[encoded data removed]",
      "text/plain": [
       "<Figure size 432x288 with 1 Axes>"
      ]
     },
     "metadata": {
      "needs_background": "light"
     },
     "output_type": "display_data"
    }
   ],
   "source": [
    "def duanli_plqotbox(data,target):\n",
    "    # outliers={}\n",
    "    for item in target:\n",
    "        ax = sns.boxplot(data=data[item],showmeans=True,flierprops = {'marker':'o','markerfacecolor':'red','color':'black'})\n",
    "        ax.set_title(f\"box of {item}\")\n",
    "        temp=data[item].describe()\n",
    "        mean=temp['mean']\n",
    "        median=temp['50%']\n",
    "        q1=temp['25%']\n",
    "        q3=temp['75%']\n",
    "        ax.text(0, median, f'Median: {median}', ha='center', va='top')\n",
    "        ax.text(0, mean, f'Mean: {mean:.2f}', ha='center', va='top')\n",
    "        ax.text(0, q1, f'25%: {q1}', ha='center', va='top')\n",
    "        ax.text(0, q3, f'75%: {q3}', ha='center', va='top')\n",
    "\n",
    "duanli_plqotbox(tips,['tip'])\n"
   ]
  },
  {
   "cell_type": "markdown",
   "id": "1dcdab39-6b9d-4b3a-8029-43704bb25489",
   "metadata": {},
   "source": [
    "## 这是一个牛逼闪闪的自动识别错误值的方法，只需要传入数据，和数据介绍"
   ]
  },
  {
   "cell_type": "code",
   "execution_count": 25,
   "id": "f2803e11-4a40-4e23-a24a-16400d875320",
   "metadata": {},
   "outputs": [],
   "source": [
    "def Duanli_Cleaning_Data(data,Data_Description):    \n",
    "    messages=[{'role':\"system\",'content':f\"\"\"you are a professional Data scientist,not a chat bot, only provide the pure answer.\\\n",
    "        any of your responses have to base on the dataset delimited by <> and the introduce delimited by briple backticks.\\\n",
    "        dataset:<{data}>\\\n",
    "        introduce:'''{Data_Description}''' \\\n",
    "              \"\"\"}]\n",
    "    inp1=f\"\"\"\n",
    "            your task is to find what is the valid numeric value range of each column in the dataset,\\\n",
    "            make sure your answer is only based on your understanding of the ture meaning of each column, the common sense and your conservative estimation,\\\n",
    "            when you make decision please ignore the influence of the actual data in it.\\\n",
    "            format your responses as a JSON object with the following format:\\\n",
    "            ex:\"range\": \"[1,10]\".make sure only output the JSON,without any other characters.\\\n",
    "            if there are some column is not numeric value, just responde \"N/A\" for those column.\n",
    "    \"\"\"\n",
    "    import openai\n",
    "    key=''\n",
    "    openai.api_key=key\n",
    "    def chat2(inp,role='user'):\n",
    "        messages.append({'role':role,'content':inp})\n",
    "        response=openai.ChatCompletion.create(\n",
    "            model='gpt-3.5-turbo',\n",
    "            messages=messages,\n",
    "            temperature=0)\n",
    "        reply_content=response.choices[0].message.content\n",
    "        messages.append({'role':'assistant','content':reply_content})\n",
    "        return reply_content\n",
    "    a=chat2(inp1)\n",
    "    return a"
   ]
  },
  {
   "cell_type": "code",
   "execution_count": 26,
   "id": "51772f65-c9dc-4417-b8b1-1efd20f715c1",
   "metadata": {},
   "outputs": [],
   "source": [
    "# 使用案例\n",
    "data = {\n",
    "    'month_of_year': [9,2,1,4,5,3,7,8,60],\n",
    "    'day_of_month': [9,2,1,4,5,3,7,8,60],\n",
    "    'day_of_week': [9,2,1,4,5,3,7,8,60],\n",
    "    'age': [9,2,1,4,5,3,7,8,60],\n",
    "    'height': [9,2,1,4,5,3,7,8,60],\n",
    "    'gender': [1,2,1,4,5,3,7,8,60],\n",
    "    'year': [1,2,1,4,5,3,7,8,60],\n",
    "    'name':['dd','dda','ddd','as','sad','qqq','ere','er','ea'],\n",
    "    'judge':['Y','Y','N','N','N','Y','N','E','Y'],\n",
    "    'salary':[1,2,1,4,5,3,7,8,60],\n",
    "    'company_size':[1,2,1,4,5,3,7,8,60],\n",
    "    'company_location':['dd','dda','ddd','as','sad','qqq','ere','er','ea']\n",
    "    \n",
    "    \n",
    "}\n",
    "df = pd.DataFrame(data)\n",
    "introduce1=f\"\"\"\n",
    "    - this Dataset contains 1 columns, each are:\\\n",
    "    - month_of_year:This column refers to the month of the year.\\\n",
    "    - day_of_month:This column refers to the day of the month.\\\n",
    "    - day_of_week:This column refers to the day of the week.\\\n",
    "    - age:This column refers to the age of a human.\\\n",
    "    - height:This column refers to the height of a human.\\\n",
    "    - gender:This column refers to the gender of a human, only can be 0 means male,1 means female.\\\n",
    "    - year:This column refers to the year of a this data was produced.\\\n",
    "    - name:This column refers to the name of a human.\\\n",
    "    - judge:This column refers to the judge of a human,only can be Y means yes, N means no.\\\n",
    "    - salary: the annual salary of one who work in the data science related field.\\\n",
    "    - company_location: The country of the employer's main office or contracting branch\\\n",
    "    - company_size: The median number of people that worked for the company during the year\\\n",
    "    \"\"\"\n",
    "b=Duanli_Cleaning_Data(df,introduce1)"
   ]
  },
  {
   "cell_type": "code",
   "execution_count": 27,
   "id": "6494852f-b37b-480c-ae98-2d941433c78e",
   "metadata": {},
   "outputs": [
    {
     "name": "stdout",
     "output_type": "stream",
     "text": [
      "{\n",
      "    \"month_of_year\": \"[1, 12]\",\n",
      "    \"day_of_month\": \"[1, 31]\",\n",
      "    \"day_of_week\": \"[1, 7]\",\n",
      "    \"age\": \"[0, 120]\",\n",
      "    \"height\": \"[0, 300]\",\n",
      "    \"gender\": \"[0, 1]\",\n",
      "    \"year\": \"[1900, 2100]\",\n",
      "    \"name\": \"N/A\",\n",
      "    \"judge\": \"N/A\",\n",
      "    \"salary\": \"[0, 1000000]\",\n",
      "    \"company_location\": \"N/A\",\n",
      "    \"company_size\": \"[1, 1000000]\"\n",
      "}\n"
     ]
    }
   ],
   "source": [
    "print(b)"
   ]
  },
  {
   "cell_type": "code",
   "execution_count": 48,
   "id": "97892f15-170c-4328-8b32-2689c699ec81",
   "metadata": {},
   "outputs": [],
   "source": [
    "import openai\n",
    "key=''\n",
    "openai.api_key=key"
   ]
  },
  {
   "cell_type": "code",
   "execution_count": 111,
   "id": "db97828f-18da-41a2-ab2e-06e1095beba2",
   "metadata": {},
   "outputs": [],
   "source": [
    "introduce=f\"\"\"\n",
    "- Data Science Job Salaries Dataset contains 11 columns, each are:\\\n",
    "- work_year: The year the salary was paid.\\\n",
    "- experience_level: The experience level in the job during the year\\\n",
    "- employment_type: The type of employment for the role\\\n",
    "- job_title: The role worked in during the year.\\\n",
    "- salary: The total gross salary amount paid.\\\n",
    "- salary_currency: The currency of the salary paid as an ISO 4217 currency code.\\\n",
    "- salary_in_usd: The salary in USD\\\n",
    "- employee_residence: Employee's primary country of residence in during the work year as an ISO 3166 country code.\\\n",
    "- remote_ratio: The overall amount of work done remotely\\\n",
    "- company_location: The country of the employer's main office or contracting branch\\\n",
    "- company_size: The median number of people that worked for the company during the year\\\n",
    "\"\"\"\n",
    "messages=[{'role':\"system\",'content':f\"\"\"you are a professional Data scientist.\\\n",
    "    any of your responses have to base on the dataset delimited by <> and the introduce delimited by briple backticks.\\\n",
    "    dataset:<{train_data}>\\\n",
    "    introduce:'''{introduce}''' \\\n",
    "          \"\"\"}]"
   ]
  },
  {
   "cell_type": "code",
   "execution_count": 72,
   "id": "a7104d90-a4ba-4e38-9231-640d77dfe74d",
   "metadata": {},
   "outputs": [],
   "source": [
    "def chat2(inp,role='user'):\n",
    "    messages.append({'role':role,'content':inp})\n",
    "    response=openai.ChatCompletion.create(\n",
    "        model='gpt-3.5-turbo',\n",
    "        messages=messages,\n",
    "        temperature=0)\n",
    "    reply_content=response.choices[0].message.content\n",
    "    messages.append({'role':'assistant','content':reply_content})\n",
    "    return reply_content"
   ]
  },
  {
   "cell_type": "code",
   "execution_count": 51,
   "id": "de005d5e-7592-4dfe-adb2-dc5e47dc05f6",
   "metadata": {},
   "outputs": [
    {
     "data": {
      "text/html": [
       "<div>\n",
       "<style scoped>\n",
       "    .dataframe tbody tr th:only-of-type {\n",
       "        vertical-align: middle;\n",
       "    }\n",
       "\n",
       "    .dataframe tbody tr th {\n",
       "        vertical-align: top;\n",
       "    }\n",
       "\n",
       "    .dataframe thead th {\n",
       "        text-align: right;\n",
       "    }\n",
       "</style>\n",
       "<table border=\"1\" class=\"dataframe\">\n",
       "  <thead>\n",
       "    <tr style=\"text-align: right;\">\n",
       "      <th></th>\n",
       "      <th>work_year</th>\n",
       "      <th>experience_level</th>\n",
       "      <th>employment_type</th>\n",
       "      <th>job_title</th>\n",
       "      <th>salary</th>\n",
       "      <th>salary_currency</th>\n",
       "      <th>salary_in_usd</th>\n",
       "      <th>employee_residence</th>\n",
       "      <th>remote_ratio</th>\n",
       "      <th>company_location</th>\n",
       "      <th>company_size</th>\n",
       "    </tr>\n",
       "  </thead>\n",
       "  <tbody>\n",
       "    <tr>\n",
       "      <th>0</th>\n",
       "      <td>2023</td>\n",
       "      <td>SE</td>\n",
       "      <td>FT</td>\n",
       "      <td>Principal Data Scientist</td>\n",
       "      <td>80000</td>\n",
       "      <td>EUR</td>\n",
       "      <td>85847</td>\n",
       "      <td>ES</td>\n",
       "      <td>100</td>\n",
       "      <td>ES</td>\n",
       "      <td>L</td>\n",
       "    </tr>\n",
       "    <tr>\n",
       "      <th>1</th>\n",
       "      <td>2023</td>\n",
       "      <td>MI</td>\n",
       "      <td>CT</td>\n",
       "      <td>ML Engineer</td>\n",
       "      <td>30000</td>\n",
       "      <td>USD</td>\n",
       "      <td>30000</td>\n",
       "      <td>US</td>\n",
       "      <td>100</td>\n",
       "      <td>US</td>\n",
       "      <td>S</td>\n",
       "    </tr>\n",
       "    <tr>\n",
       "      <th>2</th>\n",
       "      <td>2023</td>\n",
       "      <td>MI</td>\n",
       "      <td>CT</td>\n",
       "      <td>ML Engineer</td>\n",
       "      <td>25500</td>\n",
       "      <td>USD</td>\n",
       "      <td>25500</td>\n",
       "      <td>US</td>\n",
       "      <td>100</td>\n",
       "      <td>US</td>\n",
       "      <td>S</td>\n",
       "    </tr>\n",
       "    <tr>\n",
       "      <th>3</th>\n",
       "      <td>2023</td>\n",
       "      <td>SE</td>\n",
       "      <td>FT</td>\n",
       "      <td>Data Scientist</td>\n",
       "      <td>175000</td>\n",
       "      <td>USD</td>\n",
       "      <td>175000</td>\n",
       "      <td>CA</td>\n",
       "      <td>100</td>\n",
       "      <td>CA</td>\n",
       "      <td>M</td>\n",
       "    </tr>\n",
       "    <tr>\n",
       "      <th>4</th>\n",
       "      <td>2023</td>\n",
       "      <td>SE</td>\n",
       "      <td>FT</td>\n",
       "      <td>Data Scientist</td>\n",
       "      <td>120000</td>\n",
       "      <td>USD</td>\n",
       "      <td>120000</td>\n",
       "      <td>CA</td>\n",
       "      <td>100</td>\n",
       "      <td>CA</td>\n",
       "      <td>M</td>\n",
       "    </tr>\n",
       "  </tbody>\n",
       "</table>\n",
       "</div>"
      ],
      "text/plain": [
       "   work_year experience_level employment_type                 job_title  \\\n",
       "0       2023               SE              FT  Principal Data Scientist   \n",
       "1       2023               MI              CT               ML Engineer   \n",
       "2       2023               MI              CT               ML Engineer   \n",
       "3       2023               SE              FT            Data Scientist   \n",
       "4       2023               SE              FT            Data Scientist   \n",
       "\n",
       "   salary salary_currency  salary_in_usd employee_residence  remote_ratio  \\\n",
       "0   80000             EUR          85847                 ES           100   \n",
       "1   30000             USD          30000                 US           100   \n",
       "2   25500             USD          25500                 US           100   \n",
       "3  175000             USD         175000                 CA           100   \n",
       "4  120000             USD         120000                 CA           100   \n",
       "\n",
       "  company_location company_size  \n",
       "0               ES            L  \n",
       "1               US            S  \n",
       "2               US            S  \n",
       "3               CA            M  \n",
       "4               CA            M  "
      ]
     },
     "execution_count": 51,
     "metadata": {},
     "output_type": "execute_result"
    }
   ],
   "source": [
    "train_data.head()"
   ]
  },
  {
   "cell_type": "code",
   "execution_count": 481,
   "id": "1ed44fab-d7d3-447c-a607-581ff9113968",
   "metadata": {},
   "outputs": [],
   "source": [
    "inp1=f\"\"\"\n",
    "    you need to wrok on the dataset delimited by <>,the introduce delimited by the briple backticks just for you to\\\n",
    "    understand the dataset better,\\\n",
    "    what is the best way to do visualization for the column 'job_title'?.\\\n",
    "    dataset:<{train_data}>\\\n",
    "    introduce:'''{introduce}'''\\\n",
    "\"\"\""
   ]
  },
  {
   "cell_type": "code",
   "execution_count": null,
   "id": "ed33d823-a848-46b5-88fb-96520722925f",
   "metadata": {},
   "outputs": [],
   "source": []
  },
  {
   "cell_type": "code",
   "execution_count": 482,
   "id": "7f009462-8152-4b79-908e-d22467a9608b",
   "metadata": {},
   "outputs": [],
   "source": [
    "a=chat2(inp1)"
   ]
  },
  {
   "cell_type": "code",
   "execution_count": 483,
   "id": "0ceaa109-4547-446e-91a4-449a39860ef1",
   "metadata": {},
   "outputs": [
    {
     "name": "stdout",
     "output_type": "stream",
     "text": [
      "The best way to visualize the 'job_title' column depends on the specific question you are trying to answer. Here are some possible visualization options:\n",
      "\n",
      "1. Bar chart: A bar chart can be used to show the number of occurrences of each job title in the dataset. This can be useful for comparing the popularity of different job titles.\n",
      "\n",
      "2. Word cloud: A word cloud can be used to show the frequency of different job titles in a visually appealing way. This can be useful for highlighting the most common job titles in the dataset.\n",
      "\n",
      "3. Stacked bar chart: A stacked bar chart can be used to show the distribution of different job titles across different categories, such as experience level or employment type. This can be useful for identifying patterns in the data.\n",
      "\n",
      "Here is the code to create a bar chart of the 'job_title' column:\n",
      "\n",
      "```\n",
      "import pandas as pd\n",
      "import matplotlib.pyplot as plt\n",
      "\n",
      "# Load the dataset\n",
      "df = pd.read_csv('<path_to_dataset>', delimiter=',')\n",
      "\n",
      "# Count the number of occurrences of each job title\n",
      "job_counts = df['job_title'].value_counts()\n",
      "\n",
      "# Plot a bar chart\n",
      "plt.bar(job_counts.index, job_counts)\n",
      "plt.xticks(rotation=90)\n",
      "plt.xlabel('Job Title')\n",
      "plt.ylabel('Count')\n",
      "plt.title('Number of Occurrences of Each Job Title')\n",
      "plt.show()\n",
      "```\n",
      "\n",
      "Please replace `<path_to_dataset>` with the actual path to the dataset file.\n"
     ]
    }
   ],
   "source": [
    "print(a)"
   ]
  },
  {
   "cell_type": "code",
   "execution_count": 24,
   "id": "6d1ea66e-8fa7-4071-8b8e-e60772503f1e",
   "metadata": {},
   "outputs": [
    {
     "name": "stdout",
     "output_type": "stream",
     "text": [
      "Here is a more detailed strategy for data cleaning on the given dataset:\n",
      "\n",
      "1. Check for missing values in the dataset and handle them appropriately. For example, if there are missing values in the \"Sales\" column, we can either remove those rows or impute the missing values with the mean or median of the column. If there are missing values in the \"StateHoliday\" column, we can impute them with the mode of the column.\n",
      "\n",
      "2. Check for outliers in the dataset and handle them appropriately. For example, if there are outliers in the \"Sales\" column, we can either remove those rows or replace them with the mean or median of the column.\n",
      "\n",
      "3. Check for duplicates in the dataset and remove them if necessary. We can use the \"drop_duplicates\" method to remove any duplicate rows.\n",
      "\n",
      "4. Check for inconsistent data types in the columns and convert them to the appropriate data type. For example, we can convert the \"Date\" column to a datetime data type using the \"to_datetime\" method.\n",
      "\n",
      "5. Check for any irrelevant columns and remove them if necessary. For example, if the \"Open\" column is not relevant to the analysis, we can remove it using the \"drop\" method.\n",
      "\n",
      "6. Check for any inconsistent or incorrect values in the columns and handle them appropriately. For example, if there are any incorrect values in the \"StateHoliday\" column, we can replace them with the correct values.\n",
      "\n",
      "7. Check for any inconsistencies in the date format and convert them to a consistent format. For example, if the date format is inconsistent, we can convert it to a consistent format using the \"strftime\" method.\n",
      "\n",
      "These are some of the strategies for data cleaning on the given dataset. The specific approach may vary depending on the specific requirements of the analysis.\n"
     ]
    }
   ],
   "source": [
    "print(a)"
   ]
  },
  {
   "cell_type": "code",
   "execution_count": null,
   "id": "46437754-89f0-4027-986e-a862a672a6e3",
   "metadata": {},
   "outputs": [],
   "source": []
  }
 ],
 "metadata": {
  "kernelspec": {
   "display_name": "Python 3 (ipykernel)",
   "language": "python",
   "name": "python3"
  },
  "language_info": {
   "codemirror_mode": {
    "name": "ipython",
    "version": 3
   },
   "file_extension": ".py",
   "mimetype": "text/x-python",
   "name": "python",
   "nbconvert_exporter": "python",
   "pygments_lexer": "ipython3",
   "version": "3.10.4"
  }
 },
 "nbformat": 4,
 "nbformat_minor": 5
}
